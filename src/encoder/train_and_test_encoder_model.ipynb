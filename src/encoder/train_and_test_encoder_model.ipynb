{
 "cells": [
  {
   "cell_type": "code",
   "execution_count": 23,
   "metadata": {},
   "outputs": [],
   "source": [
    "import os\n",
    "\n",
    "import matplotlib.pyplot as plt\n",
    "import numpy as np\n",
    "import pandas as pd\n",
    "import torch\n",
    "from torch.utils.tensorboard import SummaryWriter\n",
    "from tqdm.notebook import tqdm\n",
    "\n",
    "%matplotlib inline"
   ]
  },
  {
   "cell_type": "code",
   "execution_count": 2,
   "metadata": {},
   "outputs": [
    {
     "name": "stdout",
     "output_type": "stream",
     "text": [
      "We use: cuda\n"
     ]
    }
   ],
   "source": [
    "device = torch.device('cuda' if torch.cuda.is_available() else 'cpu')\n",
    "print(f\"We use: {device}\")"
   ]
  },
  {
   "cell_type": "markdown",
   "metadata": {},
   "source": [
    "### I. Datasets and Dataloaders"
   ]
  },
  {
   "cell_type": "code",
   "execution_count": 3,
   "metadata": {},
   "outputs": [],
   "source": [
    "path_chest_imagenome_customized = \"/u/home/tanida/datasets/chest-imagenome-dataset-customized-full\"\n",
    "\n",
    "# reduce memory usage by only using necessary columns and selecting appropriate datatypes\n",
    "usecols = [\"mimic_image_file_path\", \"bbox_name\", \"x1\", \"y1\", \"x2\", \"y2\", \"is_abnormal\"]\n",
    "dtype = {\"x1\": \"int16\", \"x2\": \"int16\", \"y1\": \"int16\", \"y2\": \"int16\", \"bbox_name\": \"category\"} \n",
    "\n",
    "datasets_as_dfs = {dataset: os.path.join(path_chest_imagenome_customized, dataset) + \".csv\" for dataset in [\"train\", \"valid\", \"test\"]}\n",
    "datasets_as_dfs = {dataset: pd.read_csv(csv_file_path, usecols=usecols, dtype=dtype) for dataset, csv_file_path in datasets_as_dfs.items()}"
   ]
  },
  {
   "cell_type": "code",
   "execution_count": 4,
   "metadata": {},
   "outputs": [],
   "source": [
    "def print_num_samples_per_class(dataset, df):\n",
    "    print(f\"{dataset}:\")\n",
    "    for bbox_name, count in df[\"bbox_name\"].value_counts().iteritems():\n",
    "        print(f\"\\t{bbox_name}: {count}\")\n",
    "    print()"
   ]
  },
  {
   "cell_type": "code",
   "execution_count": 30,
   "metadata": {},
   "outputs": [
    {
     "name": "stdout",
     "output_type": "stream",
     "text": [
      "train:\n",
      "\tcardiac silhouette: 166490\n",
      "\tleft lung: 166460\n",
      "\tmediastinum: 166456\n",
      "\tright lung: 166431\n",
      "\tspine: 166281\n",
      "\ttrachea: 166280\n",
      "\tabdomen: 166276\n",
      "\tright upper abdomen: 166276\n",
      "\tleft cardiac silhouette: 166272\n",
      "\tleft upper abdomen: 166263\n",
      "\tupper mediastinum: 166260\n",
      "\tright upper lung zone: 166259\n",
      "\tright atrium: 166253\n",
      "\tleft hemidiaphragm: 166237\n",
      "\tleft upper lung zone: 166226\n",
      "\tright cardiac silhouette: 166214\n",
      "\tright hemidiaphragm: 166172\n",
      "\tright costophrenic angle: 166137\n",
      "\tcavoatrial junction: 166096\n",
      "\tright cardiophrenic angle: 166001\n",
      "\tleft costophrenic angle: 165875\n",
      "\tsvc: 165755\n",
      "\tleft cardiophrenic angle: 165753\n",
      "\tdescending aorta: 165705\n",
      "\tright clavicle: 165587\n",
      "\tleft clavicle: 165442\n",
      "\tcarina: 165188\n",
      "\taortic arch: 164718\n",
      "\tright lower lung zone: 162983\n",
      "\tright mid lung zone: 162889\n",
      "\tright hilar structures: 162883\n",
      "\tright apical zone: 162836\n",
      "\tleft lower lung zone: 162582\n",
      "\tleft apical zone: 162386\n",
      "\tleft hilar structures: 162170\n",
      "\tleft mid lung zone: 162146\n",
      "\n",
      "valid:\n",
      "\tcardiac silhouette: 23949\n",
      "\tright lung: 23946\n",
      "\tleft lung: 23944\n",
      "\tmediastinum: 23941\n",
      "\tupper mediastinum: 23919\n",
      "\tright upper lung zone: 23918\n",
      "\tleft upper lung zone: 23910\n",
      "\tright upper abdomen: 23908\n",
      "\tabdomen: 23907\n",
      "\tleft upper abdomen: 23907\n",
      "\ttrachea: 23907\n",
      "\tleft cardiac silhouette: 23905\n",
      "\tleft hemidiaphragm: 23904\n",
      "\tright atrium: 23904\n",
      "\tspine: 23904\n",
      "\tright cardiac silhouette: 23901\n",
      "\tright costophrenic angle: 23900\n",
      "\tright hemidiaphragm: 23898\n",
      "\tleft costophrenic angle: 23873\n",
      "\tcavoatrial junction: 23872\n",
      "\tright cardiophrenic angle: 23872\n",
      "\tsvc: 23847\n",
      "\tleft cardiophrenic angle: 23841\n",
      "\tdescending aorta: 23823\n",
      "\tright clavicle: 23790\n",
      "\tleft clavicle: 23776\n",
      "\tcarina: 23744\n",
      "\taortic arch: 23665\n",
      "\tright lower lung zone: 23414\n",
      "\tright mid lung zone: 23400\n",
      "\tright hilar structures: 23399\n",
      "\tright apical zone: 23380\n",
      "\tleft lower lung zone: 23372\n",
      "\tleft apical zone: 23334\n",
      "\tleft hilar structures: 23299\n",
      "\tleft mid lung zone: 23294\n",
      "\n",
      "test:\n",
      "\tcardiac silhouette: 47387\n",
      "\tleft lung: 47379\n",
      "\tmediastinum: 47379\n",
      "\tright lung: 47374\n",
      "\tright upper lung zone: 47341\n",
      "\tupper mediastinum: 47339\n",
      "\tright upper abdomen: 47326\n",
      "\ttrachea: 47326\n",
      "\tspine: 47326\n",
      "\tabdomen: 47325\n",
      "\tleft cardiac silhouette: 47323\n",
      "\tleft upper abdomen: 47322\n",
      "\tright atrium: 47322\n",
      "\tleft hemidiaphragm: 47318\n",
      "\tright cardiac silhouette: 47314\n",
      "\tleft upper lung zone: 47313\n",
      "\tright costophrenic angle: 47297\n",
      "\tright hemidiaphragm: 47295\n",
      "\tcavoatrial junction: 47273\n",
      "\tleft costophrenic angle: 47233\n",
      "\tright cardiophrenic angle: 47230\n",
      "\tsvc: 47194\n",
      "\tleft cardiophrenic angle: 47185\n",
      "\tdescending aorta: 47158\n",
      "\tright clavicle: 47148\n",
      "\tleft clavicle: 47126\n",
      "\tcarina: 47029\n",
      "\taortic arch: 46919\n",
      "\tright lower lung zone: 46446\n",
      "\tright mid lung zone: 46422\n",
      "\tright hilar structures: 46419\n",
      "\tright apical zone: 46414\n",
      "\tleft lower lung zone: 46377\n",
      "\tleft apical zone: 46337\n",
      "\tleft mid lung zone: 46240\n",
      "\tleft hilar structures: 46233\n",
      "\n"
     ]
    }
   ],
   "source": [
    "# get number of samples per class for each dataset\n",
    "\n",
    "# bboxes of anatomical regions are almost distributed equally in all datasets,\n",
    "# only a slight imbalance because not every image has bboxes of all 36 anatomical regions\n",
    "for dataset, df in datasets_as_dfs.items():\n",
    "    print_num_samples_per_class(dataset, df)"
   ]
  },
  {
   "cell_type": "code",
   "execution_count": 5,
   "metadata": {},
   "outputs": [
    {
     "name": "stdout",
     "output_type": "stream",
     "text": [
      "train: 5,950,238 samples (70.00%)\n",
      "valid: 855,467 samples (10.06%)\n",
      "test: 1,694,389 samples (19.93%)\n"
     ]
    }
   ],
   "source": [
    "# get number of samples for each dataset\n",
    "total_num_samples = sum(len(df) for df in datasets_as_dfs.values())\n",
    "\n",
    "for dataset, df in datasets_as_dfs.items():\n",
    "    print(f\"{dataset}: {len(df):,} samples ({(len(df) / total_num_samples) * 100:.2f}%)\")"
   ]
  },
  {
   "cell_type": "code",
   "execution_count": 6,
   "metadata": {},
   "outputs": [
    {
     "name": "stdout",
     "output_type": "stream",
     "text": [
      "train: 1,785,071 samples\n"
     ]
    }
   ],
   "source": [
    "# if we don't want to train on the full train set (with 5,950,238 samples), we can specify the constant below to limit the train set\n",
    "\n",
    "PERCENTAGE_OF_TRAIN_SET_TO_USE = 0.3\n",
    "total_num_samples_train = len(datasets_as_dfs[\"train\"])\n",
    "\n",
    "new_num_samples_train = int(PERCENTAGE_OF_TRAIN_SET_TO_USE * total_num_samples_train)\n",
    "\n",
    "datasets_as_dfs[\"train\"] = datasets_as_dfs[\"train\"][:new_num_samples_train]\n",
    "\n",
    "print(f\"train (new): {len(datasets_as_dfs['train']):,} samples\")"
   ]
  },
  {
   "cell_type": "code",
   "execution_count": 8,
   "metadata": {},
   "outputs": [
    {
     "data": {
      "text/html": [
       "<div>\n",
       "<style scoped>\n",
       "    .dataframe tbody tr th:only-of-type {\n",
       "        vertical-align: middle;\n",
       "    }\n",
       "\n",
       "    .dataframe tbody tr th {\n",
       "        vertical-align: top;\n",
       "    }\n",
       "\n",
       "    .dataframe thead th {\n",
       "        text-align: right;\n",
       "    }\n",
       "</style>\n",
       "<table border=\"1\" class=\"dataframe\">\n",
       "  <thead>\n",
       "    <tr style=\"text-align: right;\">\n",
       "      <th></th>\n",
       "      <th>mimic_image_file_path</th>\n",
       "      <th>bbox_name</th>\n",
       "      <th>x1</th>\n",
       "      <th>y1</th>\n",
       "      <th>x2</th>\n",
       "      <th>y2</th>\n",
       "      <th>is_abnormal</th>\n",
       "    </tr>\n",
       "  </thead>\n",
       "  <tbody>\n",
       "    <tr>\n",
       "      <th>0</th>\n",
       "      <td>/u/home/tanida/datasets/mimic-cxr-jpg/files/p1...</td>\n",
       "      <td>right lung</td>\n",
       "      <td>225</td>\n",
       "      <td>144</td>\n",
       "      <td>803</td>\n",
       "      <td>1381</td>\n",
       "      <td>True</td>\n",
       "    </tr>\n",
       "    <tr>\n",
       "      <th>1</th>\n",
       "      <td>/u/home/tanida/datasets/mimic-cxr-jpg/files/p1...</td>\n",
       "      <td>right upper lung zone</td>\n",
       "      <td>406</td>\n",
       "      <td>171</td>\n",
       "      <td>929</td>\n",
       "      <td>550</td>\n",
       "      <td>False</td>\n",
       "    </tr>\n",
       "    <tr>\n",
       "      <th>2</th>\n",
       "      <td>/u/home/tanida/datasets/mimic-cxr-jpg/files/p1...</td>\n",
       "      <td>right mid lung zone</td>\n",
       "      <td>343</td>\n",
       "      <td>550</td>\n",
       "      <td>803</td>\n",
       "      <td>848</td>\n",
       "      <td>False</td>\n",
       "    </tr>\n",
       "    <tr>\n",
       "      <th>3</th>\n",
       "      <td>/u/home/tanida/datasets/mimic-cxr-jpg/files/p1...</td>\n",
       "      <td>right lower lung zone</td>\n",
       "      <td>225</td>\n",
       "      <td>848</td>\n",
       "      <td>848</td>\n",
       "      <td>1381</td>\n",
       "      <td>False</td>\n",
       "    </tr>\n",
       "    <tr>\n",
       "      <th>4</th>\n",
       "      <td>/u/home/tanida/datasets/mimic-cxr-jpg/files/p1...</td>\n",
       "      <td>right hilar structures</td>\n",
       "      <td>722</td>\n",
       "      <td>487</td>\n",
       "      <td>803</td>\n",
       "      <td>902</td>\n",
       "      <td>True</td>\n",
       "    </tr>\n",
       "  </tbody>\n",
       "</table>\n",
       "</div>"
      ],
      "text/plain": [
       "                               mimic_image_file_path               bbox_name  \\\n",
       "0  /u/home/tanida/datasets/mimic-cxr-jpg/files/p1...              right lung   \n",
       "1  /u/home/tanida/datasets/mimic-cxr-jpg/files/p1...   right upper lung zone   \n",
       "2  /u/home/tanida/datasets/mimic-cxr-jpg/files/p1...     right mid lung zone   \n",
       "3  /u/home/tanida/datasets/mimic-cxr-jpg/files/p1...   right lower lung zone   \n",
       "4  /u/home/tanida/datasets/mimic-cxr-jpg/files/p1...  right hilar structures   \n",
       "\n",
       "    x1   y1   x2    y2  is_abnormal  \n",
       "0  225  144  803  1381         True  \n",
       "1  406  171  929   550        False  \n",
       "2  343  550  803   848        False  \n",
       "3  225  848  848  1381        False  \n",
       "4  722  487  803   902         True  "
      ]
     },
     "execution_count": 8,
     "metadata": {},
     "output_type": "execute_result"
    }
   ],
   "source": [
    "datasets_as_dfs[\"train\"].head()"
   ]
  },
  {
   "cell_type": "code",
   "execution_count": 37,
   "metadata": {},
   "outputs": [],
   "source": [
    "ANATOMICAL_REGIONS = {\n",
    "    \"right lung\": 0,\n",
    "    \"right upper lung zone\": 1,\n",
    "    \"right mid lung zone\": 2,\n",
    "    \"right lower lung zone\": 3,\n",
    "    \"right hilar structures\": 4,\n",
    "    \"right apical zone\": 5,\n",
    "    \"right costophrenic angle\": 6,\n",
    "    \"right cardiophrenic angle\": 7,\n",
    "    \"right hemidiaphragm\": 8,\n",
    "    \"left lung\": 9,\n",
    "    \"left upper lung zone\": 10,\n",
    "    \"left mid lung zone\": 11,\n",
    "    \"left lower lung zone\": 12,\n",
    "    \"left hilar structures\": 13,\n",
    "    \"left apical zone\": 14,\n",
    "    \"left costophrenic angle\": 15,\n",
    "    \"left hemidiaphragm\": 16,\n",
    "    \"trachea\": 17,\n",
    "    \"spine\": 18,\n",
    "    \"right clavicle\": 19,\n",
    "    \"left clavicle\": 20,\n",
    "    \"aortic arch\": 21,\n",
    "    \"mediastinum\": 22,\n",
    "    \"upper mediastinum\": 23,\n",
    "    \"svc\": 24,\n",
    "    \"cardiac silhouette\": 25,\n",
    "    \"left cardiac silhouette\": 26,\n",
    "    \"right cardiac silhouette\": 27,\n",
    "    \"cavoatrial junction\": 28,\n",
    "    \"right atrium\": 29,\n",
    "    \"descending aorta\": 30,\n",
    "    \"carina\": 31,\n",
    "    \"left upper abdomen\": 32,\n",
    "    \"right upper abdomen\": 33,\n",
    "    \"abdomen\": 34,\n",
    "    \"left cardiophrenic angle\": 35,\n",
    "}"
   ]
  },
  {
   "cell_type": "code",
   "execution_count": 48,
   "metadata": {},
   "outputs": [
    {
     "data": {
      "text/plain": [
       "tensor([2., 0.])"
      ]
     },
     "execution_count": 48,
     "metadata": {},
     "output_type": "execute_result"
    }
   ],
   "source": [
    "labels = datasets_as_dfs[\"train\"].iloc[2, [1, 6]].tolist()\n",
    "region_class_index = ANATOMICAL_REGIONS[labels[0]]\n",
    "is_abnormal_int = int(labels[1])\n",
    "\n",
    "labels = torch.Tensor([region_class_index, is_abnormal_int])\n",
    "labels"
   ]
  },
  {
   "cell_type": "code",
   "execution_count": 49,
   "metadata": {},
   "outputs": [
    {
     "data": {
      "text/plain": [
       "'right mid lung zone'"
      ]
     },
     "execution_count": 49,
     "metadata": {},
     "output_type": "execute_result"
    }
   ],
   "source": [
    "datasets_as_dfs[\"train\"].iloc[2, 1]"
   ]
  },
  {
   "cell_type": "code",
   "execution_count": 15,
   "metadata": {},
   "outputs": [],
   "source": [
    "# specify path to folder where model weights should be saved\n",
    "model_save_path = \"/u/home/tanida/weights/encoder\""
   ]
  },
  {
   "cell_type": "code",
   "execution_count": null,
   "metadata": {},
   "outputs": [],
   "source": []
  }
 ],
 "metadata": {
  "interpreter": {
   "hash": "af344a1d4a4009a9796a149eae461abe839e0a1e355ecc657514cba65d6053da"
  },
  "kernelspec": {
   "display_name": "Python 3.10.4 ('cxr_env')",
   "language": "python",
   "name": "python3"
  },
  "language_info": {
   "codemirror_mode": {
    "name": "ipython",
    "version": 3
   },
   "file_extension": ".py",
   "mimetype": "text/x-python",
   "name": "python",
   "nbconvert_exporter": "python",
   "pygments_lexer": "ipython3",
   "version": "3.10.4"
  },
  "orig_nbformat": 4
 },
 "nbformat": 4,
 "nbformat_minor": 2
}
