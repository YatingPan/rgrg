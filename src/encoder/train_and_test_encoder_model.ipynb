{
 "cells": [
  {
   "cell_type": "code",
   "execution_count": 1,
   "metadata": {},
   "outputs": [],
   "source": [
    "import matplotlib.pyplot as plt\n",
    "import os\n",
    "import pandas\n",
    "import torch\n",
    "from torch.utils.tensorboard import SummaryWriter\n",
    "from tqdm.notebook import tqdm\n",
    "\n",
    "%matplotlib inline"
   ]
  },
  {
   "cell_type": "code",
   "execution_count": 2,
   "metadata": {},
   "outputs": [
    {
     "name": "stdout",
     "output_type": "stream",
     "text": [
      "We use: cuda\n"
     ]
    }
   ],
   "source": [
    "device = torch.device('cuda' if torch.cuda.is_available() else 'cpu')\n",
    "print(f\"We use: {device}\")"
   ]
  },
  {
   "cell_type": "markdown",
   "metadata": {},
   "source": [
    "### I. Datasets and Dataloaders"
   ]
  },
  {
   "cell_type": "markdown",
   "metadata": {},
   "source": [
    "##### Create train, val and test dataset"
   ]
  },
  {
   "cell_type": "code",
   "execution_count": 3,
   "metadata": {},
   "outputs": [],
   "source": [
    "path_chest_imagenome_customized = \"/u/home/tanida/datasets/chest-imagenome-dataset-customized-full\"\n",
    "csv_files_dict = {dataset: os.path.join(path_chest_imagenome_customized, dataset) + \".csv\" for dataset in [\"train\", \"valid\", \"test\"]}"
   ]
  },
  {
   "cell_type": "code",
   "execution_count": 4,
   "metadata": {},
   "outputs": [],
   "source": [
    "def print_num_samples_per_class(path_to_csv_file):\n",
    "    df = pandas.read_csv(path_to_csv_file)\n",
    "    "
   ]
  },
  {
   "cell_type": "code",
   "execution_count": 5,
   "metadata": {},
   "outputs": [],
   "source": [
    "# specify path to folder where model weights should be saved\n",
    "model_save_path = \"/u/home/tanida/weights/encoder\""
   ]
  },
  {
   "cell_type": "code",
   "execution_count": 6,
   "metadata": {},
   "outputs": [],
   "source": [
    "df = pandas.read_csv(\"/u/home/tanida/datasets/chest-imagenome-dataset-customized-full/valid.csv\")"
   ]
  },
  {
   "cell_type": "code",
   "execution_count": 11,
   "metadata": {},
   "outputs": [
    {
     "data": {
      "text/plain": [
       "cardiac silhouette           23949\n",
       "right lung                   23946\n",
       "left lung                    23944\n",
       "mediastinum                  23941\n",
       "upper mediastinum            23919\n",
       "right upper lung zone        23918\n",
       "left upper lung zone         23910\n",
       "right upper abdomen          23908\n",
       "abdomen                      23907\n",
       "left upper abdomen           23907\n",
       "trachea                      23907\n",
       "left cardiac silhouette      23905\n",
       "left hemidiaphragm           23904\n",
       "right atrium                 23904\n",
       "spine                        23904\n",
       "right cardiac silhouette     23901\n",
       "right costophrenic angle     23900\n",
       "right hemidiaphragm          23898\n",
       "left costophrenic angle      23873\n",
       "cavoatrial junction          23872\n",
       "right cardiophrenic angle    23872\n",
       "svc                          23847\n",
       "left cardiophrenic angle     23841\n",
       "descending aorta             23823\n",
       "right clavicle               23790\n",
       "left clavicle                23776\n",
       "carina                       23744\n",
       "aortic arch                  23665\n",
       "right lower lung zone        23414\n",
       "right mid lung zone          23400\n",
       "right hilar structures       23399\n",
       "right apical zone            23380\n",
       "left lower lung zone         23372\n",
       "left apical zone             23334\n",
       "left hilar structures        23299\n",
       "left mid lung zone           23294\n",
       "Name: bbox_name, dtype: int64"
      ]
     },
     "execution_count": 11,
     "metadata": {},
     "output_type": "execute_result"
    }
   ],
   "source": [
    "df[\"bbox_name\"].value_counts()"
   ]
  },
  {
   "cell_type": "code",
   "execution_count": null,
   "metadata": {},
   "outputs": [],
   "source": []
  }
 ],
 "metadata": {
  "interpreter": {
   "hash": "af344a1d4a4009a9796a149eae461abe839e0a1e355ecc657514cba65d6053da"
  },
  "kernelspec": {
   "display_name": "Python 3.10.4 ('cxr_env')",
   "language": "python",
   "name": "python3"
  },
  "language_info": {
   "codemirror_mode": {
    "name": "ipython",
    "version": 3
   },
   "file_extension": ".py",
   "mimetype": "text/x-python",
   "name": "python",
   "nbconvert_exporter": "python",
   "pygments_lexer": "ipython3",
   "version": "3.10.4"
  },
  "orig_nbformat": 4
 },
 "nbformat": 4,
 "nbformat_minor": 2
}
