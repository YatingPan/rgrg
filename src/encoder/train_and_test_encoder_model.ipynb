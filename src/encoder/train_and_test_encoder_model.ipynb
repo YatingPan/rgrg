{
 "cells": [
  {
   "cell_type": "code",
   "execution_count": 26,
   "metadata": {},
   "outputs": [],
   "source": [
    "import matplotlib.pyplot as plt\n",
    "import os\n",
    "import pandas as pd\n",
    "import torch\n",
    "from torch.utils.tensorboard import SummaryWriter\n",
    "from tqdm.notebook import tqdm\n",
    "\n",
    "%matplotlib inline"
   ]
  },
  {
   "cell_type": "code",
   "execution_count": 27,
   "metadata": {},
   "outputs": [
    {
     "name": "stdout",
     "output_type": "stream",
     "text": [
      "We use: cuda\n"
     ]
    }
   ],
   "source": [
    "device = torch.device('cuda' if torch.cuda.is_available() else 'cpu')\n",
    "print(f\"We use: {device}\")"
   ]
  },
  {
   "cell_type": "markdown",
   "metadata": {},
   "source": [
    "### I. Datasets and Dataloaders"
   ]
  },
  {
   "cell_type": "markdown",
   "metadata": {},
   "source": [
    "##### Create train, val and test dataset"
   ]
  },
  {
   "cell_type": "code",
   "execution_count": 28,
   "metadata": {},
   "outputs": [],
   "source": [
    "path_chest_imagenome_customized = \"/u/home/tanida/datasets/chest-imagenome-dataset-customized-full\"\n",
    "datasets_as_dfs = {dataset: pd.read_csv(os.path.join(path_chest_imagenome_customized, dataset) + \".csv\") for dataset in [\"train\", \"valid\", \"test\"]}"
   ]
  },
  {
   "cell_type": "code",
   "execution_count": 29,
   "metadata": {},
   "outputs": [],
   "source": [
    "def print_num_samples_per_class(dataset, df):\n",
    "    print(f\"{dataset}:\")\n",
    "    for bbox_name, count in df[\"bbox_name\"].value_counts().iteritems():\n",
    "        print(f\"\\t{bbox_name}: {count}\")\n",
    "    print()"
   ]
  },
  {
   "cell_type": "code",
   "execution_count": 30,
   "metadata": {},
   "outputs": [
    {
     "name": "stdout",
     "output_type": "stream",
     "text": [
      "train:\n",
      "\tcardiac silhouette: 166490\n",
      "\tleft lung: 166460\n",
      "\tmediastinum: 166456\n",
      "\tright lung: 166431\n",
      "\tspine: 166281\n",
      "\ttrachea: 166280\n",
      "\tabdomen: 166276\n",
      "\tright upper abdomen: 166276\n",
      "\tleft cardiac silhouette: 166272\n",
      "\tleft upper abdomen: 166263\n",
      "\tupper mediastinum: 166260\n",
      "\tright upper lung zone: 166259\n",
      "\tright atrium: 166253\n",
      "\tleft hemidiaphragm: 166237\n",
      "\tleft upper lung zone: 166226\n",
      "\tright cardiac silhouette: 166214\n",
      "\tright hemidiaphragm: 166172\n",
      "\tright costophrenic angle: 166137\n",
      "\tcavoatrial junction: 166096\n",
      "\tright cardiophrenic angle: 166001\n",
      "\tleft costophrenic angle: 165875\n",
      "\tsvc: 165755\n",
      "\tleft cardiophrenic angle: 165753\n",
      "\tdescending aorta: 165705\n",
      "\tright clavicle: 165587\n",
      "\tleft clavicle: 165442\n",
      "\tcarina: 165188\n",
      "\taortic arch: 164718\n",
      "\tright lower lung zone: 162983\n",
      "\tright mid lung zone: 162889\n",
      "\tright hilar structures: 162883\n",
      "\tright apical zone: 162836\n",
      "\tleft lower lung zone: 162582\n",
      "\tleft apical zone: 162386\n",
      "\tleft hilar structures: 162170\n",
      "\tleft mid lung zone: 162146\n",
      "\n",
      "valid:\n",
      "\tcardiac silhouette: 23949\n",
      "\tright lung: 23946\n",
      "\tleft lung: 23944\n",
      "\tmediastinum: 23941\n",
      "\tupper mediastinum: 23919\n",
      "\tright upper lung zone: 23918\n",
      "\tleft upper lung zone: 23910\n",
      "\tright upper abdomen: 23908\n",
      "\tabdomen: 23907\n",
      "\tleft upper abdomen: 23907\n",
      "\ttrachea: 23907\n",
      "\tleft cardiac silhouette: 23905\n",
      "\tleft hemidiaphragm: 23904\n",
      "\tright atrium: 23904\n",
      "\tspine: 23904\n",
      "\tright cardiac silhouette: 23901\n",
      "\tright costophrenic angle: 23900\n",
      "\tright hemidiaphragm: 23898\n",
      "\tleft costophrenic angle: 23873\n",
      "\tcavoatrial junction: 23872\n",
      "\tright cardiophrenic angle: 23872\n",
      "\tsvc: 23847\n",
      "\tleft cardiophrenic angle: 23841\n",
      "\tdescending aorta: 23823\n",
      "\tright clavicle: 23790\n",
      "\tleft clavicle: 23776\n",
      "\tcarina: 23744\n",
      "\taortic arch: 23665\n",
      "\tright lower lung zone: 23414\n",
      "\tright mid lung zone: 23400\n",
      "\tright hilar structures: 23399\n",
      "\tright apical zone: 23380\n",
      "\tleft lower lung zone: 23372\n",
      "\tleft apical zone: 23334\n",
      "\tleft hilar structures: 23299\n",
      "\tleft mid lung zone: 23294\n",
      "\n",
      "test:\n",
      "\tcardiac silhouette: 47387\n",
      "\tleft lung: 47379\n",
      "\tmediastinum: 47379\n",
      "\tright lung: 47374\n",
      "\tright upper lung zone: 47341\n",
      "\tupper mediastinum: 47339\n",
      "\tright upper abdomen: 47326\n",
      "\ttrachea: 47326\n",
      "\tspine: 47326\n",
      "\tabdomen: 47325\n",
      "\tleft cardiac silhouette: 47323\n",
      "\tleft upper abdomen: 47322\n",
      "\tright atrium: 47322\n",
      "\tleft hemidiaphragm: 47318\n",
      "\tright cardiac silhouette: 47314\n",
      "\tleft upper lung zone: 47313\n",
      "\tright costophrenic angle: 47297\n",
      "\tright hemidiaphragm: 47295\n",
      "\tcavoatrial junction: 47273\n",
      "\tleft costophrenic angle: 47233\n",
      "\tright cardiophrenic angle: 47230\n",
      "\tsvc: 47194\n",
      "\tleft cardiophrenic angle: 47185\n",
      "\tdescending aorta: 47158\n",
      "\tright clavicle: 47148\n",
      "\tleft clavicle: 47126\n",
      "\tcarina: 47029\n",
      "\taortic arch: 46919\n",
      "\tright lower lung zone: 46446\n",
      "\tright mid lung zone: 46422\n",
      "\tright hilar structures: 46419\n",
      "\tright apical zone: 46414\n",
      "\tleft lower lung zone: 46377\n",
      "\tleft apical zone: 46337\n",
      "\tleft mid lung zone: 46240\n",
      "\tleft hilar structures: 46233\n",
      "\n"
     ]
    }
   ],
   "source": [
    "# bboxes of anatomical regions are almost distributed equally in all datasets\n",
    "# slight imbalance because not every image has bboxes of all 36 anatomical regions\n",
    "for dataset, df in datasets_as_dfs.items():\n",
    "    print_num_samples_per_class(dataset, df)"
   ]
  },
  {
   "cell_type": "code",
   "execution_count": null,
   "metadata": {},
   "outputs": [],
   "source": []
  },
  {
   "cell_type": "code",
   "execution_count": null,
   "metadata": {},
   "outputs": [],
   "source": []
  },
  {
   "cell_type": "code",
   "execution_count": null,
   "metadata": {},
   "outputs": [],
   "source": []
  },
  {
   "cell_type": "code",
   "execution_count": null,
   "metadata": {},
   "outputs": [],
   "source": []
  },
  {
   "cell_type": "code",
   "execution_count": null,
   "metadata": {},
   "outputs": [],
   "source": []
  },
  {
   "cell_type": "code",
   "execution_count": 15,
   "metadata": {},
   "outputs": [],
   "source": [
    "# specify path to folder where model weights should be saved\n",
    "model_save_path = \"/u/home/tanida/weights/encoder\""
   ]
  },
  {
   "cell_type": "code",
   "execution_count": null,
   "metadata": {},
   "outputs": [],
   "source": []
  }
 ],
 "metadata": {
  "interpreter": {
   "hash": "af344a1d4a4009a9796a149eae461abe839e0a1e355ecc657514cba65d6053da"
  },
  "kernelspec": {
   "display_name": "Python 3.10.4 ('cxr_env')",
   "language": "python",
   "name": "python3"
  },
  "language_info": {
   "codemirror_mode": {
    "name": "ipython",
    "version": 3
   },
   "file_extension": ".py",
   "mimetype": "text/x-python",
   "name": "python",
   "nbconvert_exporter": "python",
   "pygments_lexer": "ipython3",
   "version": "3.10.4"
  },
  "orig_nbformat": 4
 },
 "nbformat": 4,
 "nbformat_minor": 2
}
