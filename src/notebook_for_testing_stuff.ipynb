{
 "cells": [
  {
   "cell_type": "code",
   "execution_count": 1,
   "metadata": {},
   "outputs": [],
   "source": [
    "from ast import literal_eval\n",
    "import pandas as pd\n",
    "import os\n",
    "import cv2\n",
    "import imagesize\n",
    "import numpy as np\n",
    "import albumentations as A\n",
    "from albumentations.pytorch import ToTensorV2"
   ]
  },
  {
   "cell_type": "code",
   "execution_count": 2,
   "metadata": {},
   "outputs": [],
   "source": [
    "from src.full_model.evaluate_bbox_variations.custom_dataset_bbox_variations import CustomDataset"
   ]
  },
  {
   "cell_type": "code",
   "execution_count": 3,
   "metadata": {},
   "outputs": [],
   "source": [
    "IMAGE_INPUT_SIZE = 512"
   ]
  },
  {
   "cell_type": "code",
   "execution_count": 4,
   "metadata": {},
   "outputs": [],
   "source": [
    "path_to_partial_test_set = \"/u/home/tanida/datasets/dataset-with-reference-reports-partial-1000/test-1000.csv\""
   ]
  },
  {
   "cell_type": "code",
   "execution_count": 5,
   "metadata": {},
   "outputs": [],
   "source": [
    "def get_test_set_as_df():\n",
    "    def compute_bbox_widths_heights(row):\n",
    "        bbox_coordinates_single_image = row[\"bbox_coordinates\"]\n",
    "        widths_heights = []\n",
    "        for bbox_coords in bbox_coordinates_single_image:\n",
    "            x1, y1, x2, y2 = bbox_coords\n",
    "            width = x2 - x1\n",
    "            height = y2 - y1\n",
    "            widths_heights.append([width, height])\n",
    "\n",
    "        return widths_heights\n",
    "\n",
    "    def retrieve_image_widths_heights(row):\n",
    "        mimic_image_file_path = row[\"mimic_image_file_path\"]\n",
    "        width, height = imagesize.get(mimic_image_file_path)\n",
    "        return [width, height]\n",
    "\n",
    "    usecols = [\n",
    "        \"mimic_image_file_path\",\n",
    "        \"bbox_coordinates\",\n",
    "        \"bbox_labels\",\n",
    "        \"bbox_phrases\",\n",
    "        \"bbox_phrase_exists\",\n",
    "    ]\n",
    "\n",
    "    # all of the columns below are stored as strings in the csv_file\n",
    "    # however, as they are actually lists, we apply the literal_eval func to convert them to lists\n",
    "    converters = {\n",
    "        \"bbox_coordinates\": literal_eval,\n",
    "        \"bbox_labels\": literal_eval,\n",
    "        \"bbox_phrases\": literal_eval,\n",
    "        \"bbox_phrase_exists\": literal_eval,\n",
    "    }\n",
    "\n",
    "    test_set_as_df = pd.read_csv(path_to_partial_test_set, usecols=usecols, converters=converters)\n",
    "\n",
    "    # add new columns that contain the bbox_widths_heights (List[List[int]] with len(outer_list)=29 and len(inner_list) = 2)\n",
    "    # and image_width_height (List[int] of len 2)\n",
    "    test_set_as_df[\"bbox_widths_heights\"] = test_set_as_df.apply(lambda row: compute_bbox_widths_heights(row), axis=1)\n",
    "    test_set_as_df[\"image_width_height\"] = test_set_as_df.apply(lambda row: retrieve_image_widths_heights(row), axis=1)\n",
    "\n",
    "    return test_set_as_df"
   ]
  },
  {
   "cell_type": "code",
   "execution_count": 6,
   "metadata": {},
   "outputs": [],
   "source": [
    "dataset_as_df = get_test_set_as_df()[:3]"
   ]
  },
  {
   "cell_type": "code",
   "execution_count": 7,
   "metadata": {},
   "outputs": [
    {
     "data": {
      "text/html": [
       "<div>\n",
       "<style scoped>\n",
       "    .dataframe tbody tr th:only-of-type {\n",
       "        vertical-align: middle;\n",
       "    }\n",
       "\n",
       "    .dataframe tbody tr th {\n",
       "        vertical-align: top;\n",
       "    }\n",
       "\n",
       "    .dataframe thead th {\n",
       "        text-align: right;\n",
       "    }\n",
       "</style>\n",
       "<table border=\"1\" class=\"dataframe\">\n",
       "  <thead>\n",
       "    <tr style=\"text-align: right;\">\n",
       "      <th></th>\n",
       "      <th>mimic_image_file_path</th>\n",
       "      <th>bbox_coordinates</th>\n",
       "      <th>bbox_labels</th>\n",
       "      <th>bbox_phrases</th>\n",
       "      <th>bbox_phrase_exists</th>\n",
       "      <th>bbox_widths_heights</th>\n",
       "      <th>image_width_height</th>\n",
       "    </tr>\n",
       "  </thead>\n",
       "  <tbody>\n",
       "    <tr>\n",
       "      <th>0</th>\n",
       "      <td>/u/home/tanida/datasets/mimic-cxr-jpg/files/p1...</td>\n",
       "      <td>[[327, 231, 1200, 2114], [477, 300, 1200, 968]...</td>\n",
       "      <td>[1, 2, 3, 4, 5, 6, 7, 8, 9, 10, 11, 12, 13, 14...</td>\n",
       "      <td>[There is no focal consolidation, pleural effu...</td>\n",
       "      <td>[True, False, False, True, False, False, True,...</td>\n",
       "      <td>[[873, 1883], [723, 668], [751, 423], [819, 72...</td>\n",
       "      <td>[2544, 3056]</td>\n",
       "    </tr>\n",
       "    <tr>\n",
       "      <th>1</th>\n",
       "      <td>/u/home/tanida/datasets/mimic-cxr-jpg/files/p1...</td>\n",
       "      <td>[[300, 382, 1227, 2332], [477, 436, 1227, 1118...</td>\n",
       "      <td>[1, 2, 3, 4, 5, 6, 7, 8, 9, 10, 11, 12, 13, 14...</td>\n",
       "      <td>[Pulmonary vasculature is normal. Lungs are cl...</td>\n",
       "      <td>[True, False, False, False, True, False, True,...</td>\n",
       "      <td>[[927, 1950], [750, 682], [778, 437], [859, 77...</td>\n",
       "      <td>[2544, 3056]</td>\n",
       "    </tr>\n",
       "    <tr>\n",
       "      <th>2</th>\n",
       "      <td>/u/home/tanida/datasets/mimic-cxr-jpg/files/p1...</td>\n",
       "      <td>[[229, 652, 1171, 2330], [386, 676, 1086, 1135...</td>\n",
       "      <td>[1, 2, 3, 4, 5, 6, 7, 8, 9, 10, 11, 12, 13, 14...</td>\n",
       "      <td>[No acute intrathoracic process. There is no f...</td>\n",
       "      <td>[True, False, False, False, False, True, True,...</td>\n",
       "      <td>[[942, 1678], [700, 459], [870, 434], [942, 76...</td>\n",
       "      <td>[2539, 2705]</td>\n",
       "    </tr>\n",
       "  </tbody>\n",
       "</table>\n",
       "</div>"
      ],
      "text/plain": [
       "                               mimic_image_file_path  \\\n",
       "0  /u/home/tanida/datasets/mimic-cxr-jpg/files/p1...   \n",
       "1  /u/home/tanida/datasets/mimic-cxr-jpg/files/p1...   \n",
       "2  /u/home/tanida/datasets/mimic-cxr-jpg/files/p1...   \n",
       "\n",
       "                                    bbox_coordinates  \\\n",
       "0  [[327, 231, 1200, 2114], [477, 300, 1200, 968]...   \n",
       "1  [[300, 382, 1227, 2332], [477, 436, 1227, 1118...   \n",
       "2  [[229, 652, 1171, 2330], [386, 676, 1086, 1135...   \n",
       "\n",
       "                                         bbox_labels  \\\n",
       "0  [1, 2, 3, 4, 5, 6, 7, 8, 9, 10, 11, 12, 13, 14...   \n",
       "1  [1, 2, 3, 4, 5, 6, 7, 8, 9, 10, 11, 12, 13, 14...   \n",
       "2  [1, 2, 3, 4, 5, 6, 7, 8, 9, 10, 11, 12, 13, 14...   \n",
       "\n",
       "                                        bbox_phrases  \\\n",
       "0  [There is no focal consolidation, pleural effu...   \n",
       "1  [Pulmonary vasculature is normal. Lungs are cl...   \n",
       "2  [No acute intrathoracic process. There is no f...   \n",
       "\n",
       "                                  bbox_phrase_exists  \\\n",
       "0  [True, False, False, True, False, False, True,...   \n",
       "1  [True, False, False, False, True, False, True,...   \n",
       "2  [True, False, False, False, False, True, True,...   \n",
       "\n",
       "                                 bbox_widths_heights image_width_height  \n",
       "0  [[873, 1883], [723, 668], [751, 423], [819, 72...       [2544, 3056]  \n",
       "1  [[927, 1950], [750, 682], [778, 437], [859, 77...       [2544, 3056]  \n",
       "2  [[942, 1678], [700, 459], [870, 434], [942, 76...       [2539, 2705]  "
      ]
     },
     "execution_count": 7,
     "metadata": {},
     "output_type": "execute_result"
    }
   ],
   "source": [
    "dataset_as_df.head()"
   ]
  },
  {
   "cell_type": "code",
   "execution_count": 8,
   "metadata": {},
   "outputs": [],
   "source": [
    "def vary_bbox_coords_position(row):\n",
    "    def check_coordinate(coord, dimension):\n",
    "        \"\"\"Make sure that new coordinate is still within the image.\"\"\"\n",
    "        if coord < 0:\n",
    "            return 0\n",
    "        elif coord > dimension:\n",
    "            return dimension\n",
    "        else:\n",
    "            return coord\n",
    "\n",
    "    bbox_coords_single_image = row[\"bbox_coordinates\"]  # List[List[int]] of shape 29 x 4\n",
    "    bbox_widths_heights_single_image = row[\"bbox_widths_heights\"]  # List[List[int]] of shape 29 x 2\n",
    "    relative_position_variation_bboxes = row[\"relative_position_variations\"]  # List[List[float]] of shape 29 x 2\n",
    "    image_width, image_height = row[\"image_width_height\"]  # two integers\n",
    "\n",
    "    # to store the new bbox coordinates after they have been varied\n",
    "    varied_bbox_coords_single_image = []\n",
    "\n",
    "    for bbox_coords, bbox_width_height, relative_position_variations in zip(bbox_coords_single_image, bbox_widths_heights_single_image, relative_position_variation_bboxes):\n",
    "        x1, y1, x2, y2 = bbox_coords\n",
    "        bbox_width, bbox_height = bbox_width_height\n",
    "        x_rel, y_rel = relative_position_variations\n",
    "\n",
    "        # if e.g. x_rel = 0.5 and bbox_width = 100, then x_var = 50\n",
    "        x_var = int(bbox_width * x_rel)\n",
    "        y_var = int(bbox_height * y_rel)\n",
    "\n",
    "        x1 += x_var\n",
    "        x2 += x_var\n",
    "        y1 += y_var\n",
    "        y2 += y_var\n",
    "\n",
    "        x1 = check_coordinate(x1, image_width)\n",
    "        x2 = check_coordinate(x2, image_width)\n",
    "        y1 = check_coordinate(y1, image_height)\n",
    "        y2 = check_coordinate(y2, image_height)\n",
    "\n",
    "        varied_bbox_coords_single_image.append([x1, y1, x2, y2])\n",
    "\n",
    "    return varied_bbox_coords_single_image"
   ]
  },
  {
   "cell_type": "code",
   "execution_count": 9,
   "metadata": {},
   "outputs": [],
   "source": [
    "num_images = len(dataset_as_df)\n",
    "mean = 0\n",
    "std = 0.1\n",
    "\n",
    "relative_position_variations = np.random.normal(mean, std, size=(num_images, 29, 2))\n",
    "dataset_as_df[\"relative_position_variations\"] = relative_position_variations.tolist()\n",
    "dataset_as_df[\"bbox_coordinates_varied\"] = dataset_as_df.apply(lambda row: vary_bbox_coords_position(row), axis=1)"
   ]
  },
  {
   "cell_type": "code",
   "execution_count": 27,
   "metadata": {},
   "outputs": [
    {
     "data": {
      "text/plain": [
       "(3056, 2544)"
      ]
     },
     "execution_count": 27,
     "metadata": {},
     "output_type": "execute_result"
    }
   ],
   "source": [
    "img_path = dataset_as_df.iloc[0][\"mimic_image_file_path\"]\n",
    "image_cv2 = cv2.imread(img_path, cv2.IMREAD_UNCHANGED)\n",
    "image_cv2.shape"
   ]
  },
  {
   "cell_type": "code",
   "execution_count": 37,
   "metadata": {},
   "outputs": [
    {
     "data": {
      "text/plain": [
       "torch.Size([1, 700, 300])"
      ]
     },
     "execution_count": 37,
     "metadata": {},
     "output_type": "execute_result"
    }
   ],
   "source": [
    "test_transforms = A.Compose(\n",
    "        [\n",
    "            A.Resize(height=700, width=300, interpolation=cv2.INTER_AREA),\n",
    "            # A.PadIfNeeded(min_height=IMAGE_INPUT_SIZE, min_width=IMAGE_INPUT_SIZE, border_mode=cv2.BORDER_CONSTANT),\n",
    "            A.Normalize(mean=0.471, std=0.302),\n",
    "            ToTensorV2(),\n",
    "        ]\n",
    "    )\n",
    "\n",
    "transformed_img_cv2 = test_transforms(image=image_cv2)[\"image\"]\n",
    "transformed_img_cv2.shape"
   ]
  },
  {
   "cell_type": "code",
   "execution_count": 10,
   "metadata": {},
   "outputs": [
    {
     "data": {
      "text/html": [
       "<div>\n",
       "<style scoped>\n",
       "    .dataframe tbody tr th:only-of-type {\n",
       "        vertical-align: middle;\n",
       "    }\n",
       "\n",
       "    .dataframe tbody tr th {\n",
       "        vertical-align: top;\n",
       "    }\n",
       "\n",
       "    .dataframe thead th {\n",
       "        text-align: right;\n",
       "    }\n",
       "</style>\n",
       "<table border=\"1\" class=\"dataframe\">\n",
       "  <thead>\n",
       "    <tr style=\"text-align: right;\">\n",
       "      <th></th>\n",
       "      <th>mimic_image_file_path</th>\n",
       "      <th>bbox_coordinates</th>\n",
       "      <th>bbox_labels</th>\n",
       "      <th>bbox_phrases</th>\n",
       "      <th>bbox_phrase_exists</th>\n",
       "      <th>bbox_widths_heights</th>\n",
       "      <th>image_width_height</th>\n",
       "      <th>relative_position_variations</th>\n",
       "      <th>bbox_coordinates_varied</th>\n",
       "    </tr>\n",
       "  </thead>\n",
       "  <tbody>\n",
       "    <tr>\n",
       "      <th>0</th>\n",
       "      <td>/u/home/tanida/datasets/mimic-cxr-jpg/files/p1...</td>\n",
       "      <td>[[327, 231, 1200, 2114], [477, 300, 1200, 968]...</td>\n",
       "      <td>[1, 2, 3, 4, 5, 6, 7, 8, 9, 10, 11, 12, 13, 14...</td>\n",
       "      <td>[There is no focal consolidation, pleural effu...</td>\n",
       "      <td>[True, False, False, True, False, False, True,...</td>\n",
       "      <td>[[873, 1883], [723, 668], [751, 423], [819, 72...</td>\n",
       "      <td>[2544, 3056]</td>\n",
       "      <td>[[0.04699671459135207, 0.09165250484250043], [...</td>\n",
       "      <td>[[368, 403, 1241, 2286], [462, 214, 1185, 882]...</td>\n",
       "    </tr>\n",
       "    <tr>\n",
       "      <th>1</th>\n",
       "      <td>/u/home/tanida/datasets/mimic-cxr-jpg/files/p1...</td>\n",
       "      <td>[[300, 382, 1227, 2332], [477, 436, 1227, 1118...</td>\n",
       "      <td>[1, 2, 3, 4, 5, 6, 7, 8, 9, 10, 11, 12, 13, 14...</td>\n",
       "      <td>[Pulmonary vasculature is normal. Lungs are cl...</td>\n",
       "      <td>[True, False, False, False, True, False, True,...</td>\n",
       "      <td>[[927, 1950], [750, 682], [778, 437], [859, 77...</td>\n",
       "      <td>[2544, 3056]</td>\n",
       "      <td>[[-0.14522310411740774, -0.10162471564409498],...</td>\n",
       "      <td>[[166, 184, 1093, 2134], [516, 421, 1266, 1103...</td>\n",
       "    </tr>\n",
       "    <tr>\n",
       "      <th>2</th>\n",
       "      <td>/u/home/tanida/datasets/mimic-cxr-jpg/files/p1...</td>\n",
       "      <td>[[229, 652, 1171, 2330], [386, 676, 1086, 1135...</td>\n",
       "      <td>[1, 2, 3, 4, 5, 6, 7, 8, 9, 10, 11, 12, 13, 14...</td>\n",
       "      <td>[No acute intrathoracic process. There is no f...</td>\n",
       "      <td>[True, False, False, False, False, True, True,...</td>\n",
       "      <td>[[942, 1678], [700, 459], [870, 434], [942, 76...</td>\n",
       "      <td>[2539, 2705]</td>\n",
       "      <td>[[-0.032675926785905994, -0.029834814364771874...</td>\n",
       "      <td>[[199, 602, 1141, 2280], [289, 685, 989, 1144]...</td>\n",
       "    </tr>\n",
       "  </tbody>\n",
       "</table>\n",
       "</div>"
      ],
      "text/plain": [
       "                               mimic_image_file_path  \\\n",
       "0  /u/home/tanida/datasets/mimic-cxr-jpg/files/p1...   \n",
       "1  /u/home/tanida/datasets/mimic-cxr-jpg/files/p1...   \n",
       "2  /u/home/tanida/datasets/mimic-cxr-jpg/files/p1...   \n",
       "\n",
       "                                    bbox_coordinates  \\\n",
       "0  [[327, 231, 1200, 2114], [477, 300, 1200, 968]...   \n",
       "1  [[300, 382, 1227, 2332], [477, 436, 1227, 1118...   \n",
       "2  [[229, 652, 1171, 2330], [386, 676, 1086, 1135...   \n",
       "\n",
       "                                         bbox_labels  \\\n",
       "0  [1, 2, 3, 4, 5, 6, 7, 8, 9, 10, 11, 12, 13, 14...   \n",
       "1  [1, 2, 3, 4, 5, 6, 7, 8, 9, 10, 11, 12, 13, 14...   \n",
       "2  [1, 2, 3, 4, 5, 6, 7, 8, 9, 10, 11, 12, 13, 14...   \n",
       "\n",
       "                                        bbox_phrases  \\\n",
       "0  [There is no focal consolidation, pleural effu...   \n",
       "1  [Pulmonary vasculature is normal. Lungs are cl...   \n",
       "2  [No acute intrathoracic process. There is no f...   \n",
       "\n",
       "                                  bbox_phrase_exists  \\\n",
       "0  [True, False, False, True, False, False, True,...   \n",
       "1  [True, False, False, False, True, False, True,...   \n",
       "2  [True, False, False, False, False, True, True,...   \n",
       "\n",
       "                                 bbox_widths_heights image_width_height  \\\n",
       "0  [[873, 1883], [723, 668], [751, 423], [819, 72...       [2544, 3056]   \n",
       "1  [[927, 1950], [750, 682], [778, 437], [859, 77...       [2544, 3056]   \n",
       "2  [[942, 1678], [700, 459], [870, 434], [942, 76...       [2539, 2705]   \n",
       "\n",
       "                        relative_position_variations  \\\n",
       "0  [[0.04699671459135207, 0.09165250484250043], [...   \n",
       "1  [[-0.14522310411740774, -0.10162471564409498],...   \n",
       "2  [[-0.032675926785905994, -0.029834814364771874...   \n",
       "\n",
       "                             bbox_coordinates_varied  \n",
       "0  [[368, 403, 1241, 2286], [462, 214, 1185, 882]...  \n",
       "1  [[166, 184, 1093, 2134], [516, 421, 1266, 1103...  \n",
       "2  [[199, 602, 1141, 2280], [289, 685, 989, 1144]...  "
      ]
     },
     "execution_count": 10,
     "metadata": {},
     "output_type": "execute_result"
    }
   ],
   "source": [
    "dataset_as_df.head()"
   ]
  },
  {
   "cell_type": "code",
   "execution_count": 11,
   "metadata": {},
   "outputs": [],
   "source": [
    "def get_transforms():\n",
    "    # see compute_mean_std_dataset.py in src/dataset\n",
    "    mean = 0.471\n",
    "    std = 0.302\n",
    "\n",
    "    # don't apply data augmentations to test set\n",
    "    test_transforms = A.Compose(\n",
    "        [\n",
    "            A.LongestMaxSize(max_size=IMAGE_INPUT_SIZE, interpolation=cv2.INTER_AREA),\n",
    "            A.PadIfNeeded(min_height=IMAGE_INPUT_SIZE, min_width=IMAGE_INPUT_SIZE, border_mode=cv2.BORDER_CONSTANT),\n",
    "            A.Normalize(mean=mean, std=std),\n",
    "            ToTensorV2(),\n",
    "        ],\n",
    "        bbox_params=A.BboxParams(format=\"pascal_voc\", label_fields=[\"class_labels\"]),\n",
    "    )\n",
    "\n",
    "    return test_transforms\n",
    "\n",
    "transforms = get_transforms()"
   ]
  },
  {
   "cell_type": "code",
   "execution_count": 12,
   "metadata": {},
   "outputs": [],
   "source": [
    "dataset = CustomDataset(dataset_as_df, transforms, log=None)"
   ]
  },
  {
   "cell_type": "code",
   "execution_count": 14,
   "metadata": {},
   "outputs": [
    {
     "data": {
      "text/plain": [
       "torch.Size([1, 512, 512])"
      ]
     },
     "execution_count": 14,
     "metadata": {},
     "output_type": "execute_result"
    }
   ],
   "source": [
    "image = sample_1[\"image\"]\n",
    "image.shape"
   ]
  },
  {
   "cell_type": "code",
   "execution_count": 20,
   "metadata": {},
   "outputs": [
    {
     "name": "stdout",
     "output_type": "stream",
     "text": [
      "104 67 250 382\n"
     ]
    }
   ],
   "source": [
    "four_bbox_coords = sample_1[\"bbox_coordinates\"][0]\n",
    "x1, y1, x2, y2 = four_bbox_coords\n",
    "x1, y1, x2, y2 = int(x1), int(y1), int(x2), int(y2)\n",
    "print(x1, y1, x2, y2)"
   ]
  },
  {
   "cell_type": "code",
   "execution_count": 24,
   "metadata": {},
   "outputs": [
    {
     "name": "stdout",
     "output_type": "stream",
     "text": [
      "146\n",
      "315\n"
     ]
    }
   ],
   "source": [
    "width = x2 - x1\n",
    "height = y2 - y1\n",
    "print(width)\n",
    "print(height)"
   ]
  },
  {
   "cell_type": "code",
   "execution_count": 25,
   "metadata": {},
   "outputs": [],
   "source": [
    "from torchvision.transforms.functional import crop"
   ]
  },
  {
   "cell_type": "code",
   "execution_count": 26,
   "metadata": {},
   "outputs": [
    {
     "data": {
      "text/plain": [
       "torch.Size([1, 315, 146])"
      ]
     },
     "execution_count": 26,
     "metadata": {},
     "output_type": "execute_result"
    }
   ],
   "source": [
    "image_bbox_new = crop(image, top=y1, left=x1, height=height, width=width)\n",
    "image_bbox_new.shape"
   ]
  },
  {
   "cell_type": "code",
   "execution_count": 35,
   "metadata": {},
   "outputs": [
    {
     "data": {
      "text/plain": [
       "torch.Size([1, 315, 146])"
      ]
     },
     "execution_count": 35,
     "metadata": {},
     "output_type": "execute_result"
    }
   ],
   "source": [
    "image_bbox = image[:, y1:y2, x1:x2]\n",
    "image_bbox.shape"
   ]
  },
  {
   "cell_type": "code",
   "execution_count": 13,
   "metadata": {},
   "outputs": [
    {
     "data": {
      "text/plain": [
       "{'image': tensor([[[-1.5596, -1.5596, -1.5596,  ..., -1.5596, -1.5596, -1.5596],\n",
       "          [-1.5596, -1.5596, -1.5596,  ..., -1.5596, -1.5596, -1.5596],\n",
       "          [-1.5596, -1.5596, -1.5596,  ..., -1.5596, -1.5596, -1.5596],\n",
       "          ...,\n",
       "          [-1.5596, -1.5596, -1.5596,  ..., -1.5596, -1.5596, -1.5596],\n",
       "          [-1.5596, -1.5596, -1.5596,  ..., -1.5596, -1.5596, -1.5596],\n",
       "          [-1.5596, -1.5596, -1.5596,  ..., -1.5596, -1.5596, -1.5596]]]),\n",
       " 'bbox_coordinates': [(104.62264150943396,\n",
       "   67.51832460732984,\n",
       "   250.80896226415095,\n",
       "   382.9947643979058),\n",
       "  (120.36320754716981,\n",
       "   35.853403141361255,\n",
       "   241.4316037735849,\n",
       "   147.7696335078534),\n",
       "  (109.81367924528303,\n",
       "   156.98429319371726,\n",
       "   235.57075471698113,\n",
       "   227.85340314136127),\n",
       "  (84.52830188679246,\n",
       "   240.92146596858638,\n",
       "   221.67216981132074,\n",
       "   362.0523560209424),\n",
       "  (174.95283018867923,\n",
       "   157.82198952879583,\n",
       "   241.09669811320757,\n",
       "   258.3455497382199),\n",
       "  (141.62971698113208,\n",
       "   43.72774869109948,\n",
       "   251.31132075471697,\n",
       "   116.94240837696336),\n",
       "  (79.67216981132074,\n",
       "   320.67015706806285,\n",
       "   125.21933962264151,\n",
       "   366.4083769633508),\n",
       "  (122.37264150943396,\n",
       "   290.848167539267,\n",
       "   284.6344339622642,\n",
       "   341.10994764397907),\n",
       "  (273.24764150943395,\n",
       "   23.623036649214658,\n",
       "   412.56839622641513,\n",
       "   355.18324607329845),\n",
       "  (277.9363207547169,\n",
       "   42.55497382198953,\n",
       "   403.5259433962264,\n",
       "   154.47120418848166),\n",
       "  (270.0660377358491,\n",
       "   163.01570680628274,\n",
       "   393.47877358490564,\n",
       "   238.40837696335078),\n",
       "  (270.0660377358491,\n",
       "   229.86387434554973,\n",
       "   404.86556603773585,\n",
       "   362.5549738219895),\n",
       "  (277.7688679245283, 150.95287958115182, 341.73584905660374, 256.0),\n",
       "  (285.47169811320754,\n",
       "   37.52879581151832,\n",
       "   397.49764150943395,\n",
       "   110.7434554973822),\n",
       "  (390.1297169811321, 337.9267015706806, 435.6768867924528, 383.6649214659686),\n",
       "  (271.5731132075472,\n",
       "   319.8324607329843,\n",
       "   410.8938679245283,\n",
       "   370.09424083769636),\n",
       "  (218.65801886792454,\n",
       "   18.26178010471204,\n",
       "   280.4481132075472,\n",
       "   212.60732984293193),\n",
       "  (221.67216981132074, 0.0, 280.95047169811323, 508.64921465968587),\n",
       "  (98.59433962264151,\n",
       "   59.47643979057592,\n",
       "   256.33490566037733,\n",
       "   109.73821989528795),\n",
       "  (266.54952830188677,\n",
       "   63.49738219895288,\n",
       "   428.811320754717,\n",
       "   111.41361256544502),\n",
       "  (263.3679245283019, 128.5026178010471, 297.6957547169811, 162.6806282722513),\n",
       "  (195.04716981132074,\n",
       "   91.30890052356021,\n",
       "   334.3679245283019,\n",
       "   342.78534031413614),\n",
       "  (226.0259433962264,\n",
       "   77.90575916230367,\n",
       "   294.5141509433962,\n",
       "   201.38219895287958),\n",
       "  (226.69575471698113,\n",
       "   135.7068062827225,\n",
       "   260.8561320754717,\n",
       "   217.96858638743456),\n",
       "  (229.04009433962264,\n",
       "   217.96858638743456,\n",
       "   368.36084905660374,\n",
       "   343.79057591623035),\n",
       "  (204.08962264150944,\n",
       "   215.79057591623035,\n",
       "   245.11556603773585,\n",
       "   254.65968586387436),\n",
       "  (205.59669811320754,\n",
       "   257.84293193717275,\n",
       "   246.62264150943398,\n",
       "   337.9267015706806),\n",
       "  (236.91037735849056,\n",
       "   155.81151832460733,\n",
       "   257.5070754716981,\n",
       "   176.41884816753927),\n",
       "  (59.9127358490566,\n",
       "   274.09424083769636,\n",
       "   372.8820754716981,\n",
       "   468.4397905759162)],\n",
       " 'bbox_phrases': ['There is no focal consolidation, pleural effusion or pneumothorax. No acute cardiopulmonary process.',\n",
       "  '',\n",
       "  '',\n",
       "  'Bilateral nodular opacities that most likely represent nipple shadows.',\n",
       "  '',\n",
       "  '',\n",
       "  'There is no focal consolidation, pleural effusion or pneumothorax.',\n",
       "  '',\n",
       "  'There is no focal consolidation, pleural effusion or pneumothorax. No acute cardiopulmonary process.',\n",
       "  '',\n",
       "  '',\n",
       "  'Bilateral nodular opacities that most likely represent nipple shadows.',\n",
       "  '',\n",
       "  '',\n",
       "  'There is no focal consolidation, pleural effusion or pneumothorax.',\n",
       "  '',\n",
       "  '',\n",
       "  '',\n",
       "  '',\n",
       "  '',\n",
       "  '',\n",
       "  'The cardiomediastinal silhouette is normal. No acute cardiopulmonary process.',\n",
       "  'The cardiomediastinal silhouette is normal.',\n",
       "  '',\n",
       "  'The cardiomediastinal silhouette is normal. No acute cardiopulmonary process.',\n",
       "  '',\n",
       "  '',\n",
       "  '',\n",
       "  'The imaged upper abdomen is unremarkable.'],\n",
       " 'bbox_phrase_exists': [True,\n",
       "  False,\n",
       "  False,\n",
       "  True,\n",
       "  False,\n",
       "  False,\n",
       "  True,\n",
       "  False,\n",
       "  True,\n",
       "  False,\n",
       "  False,\n",
       "  True,\n",
       "  False,\n",
       "  False,\n",
       "  True,\n",
       "  False,\n",
       "  False,\n",
       "  False,\n",
       "  False,\n",
       "  False,\n",
       "  False,\n",
       "  True,\n",
       "  True,\n",
       "  False,\n",
       "  True,\n",
       "  False,\n",
       "  False,\n",
       "  False,\n",
       "  True]}"
      ]
     },
     "execution_count": 13,
     "metadata": {},
     "output_type": "execute_result"
    }
   ],
   "source": [
    "sample_1 = dataset[0]\n",
    "sample_1"
   ]
  },
  {
   "cell_type": "code",
   "execution_count": null,
   "metadata": {},
   "outputs": [],
   "source": []
  }
 ],
 "metadata": {
  "interpreter": {
   "hash": "af344a1d4a4009a9796a149eae461abe839e0a1e355ecc657514cba65d6053da"
  },
  "kernelspec": {
   "display_name": "Python 3.10.4 ('cxr_env')",
   "language": "python",
   "name": "python3"
  },
  "language_info": {
   "codemirror_mode": {
    "name": "ipython",
    "version": 3
   },
   "file_extension": ".py",
   "mimetype": "text/x-python",
   "name": "python",
   "nbconvert_exporter": "python",
   "pygments_lexer": "ipython3",
   "version": "3.10.4"
  },
  "orig_nbformat": 4
 },
 "nbformat": 4,
 "nbformat_minor": 2
}
