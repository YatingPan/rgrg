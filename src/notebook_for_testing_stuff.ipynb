{
 "cells": [
  {
   "cell_type": "code",
   "execution_count": 1,
   "metadata": {},
   "outputs": [],
   "source": [
    "from ast import literal_eval\n",
    "import logging\n",
    "import os\n",
    "\n",
    "import albumentations as A\n",
    "from albumentations.pytorch import ToTensorV2\n",
    "import cv2\n",
    "import evaluate\n",
    "import imagesize\n",
    "import numpy as np\n",
    "import pandas as pd\n",
    "import torch\n",
    "from torch.utils.data import DataLoader\n",
    "from tqdm import tqdm\n",
    "\n",
    "from src.full_model.evaluate_bbox_variations.custom_dataset_bbox_variations import CustomDatasetBboxVariations\n",
    "from src.full_model.report_generation_model import ReportGenerationModel\n",
    "from src.full_model.train_full_model import get_tokenizer\n",
    "from src.path_datasets_and_weights import path_runs_full_model\n",
    "\n",
    "# specify the checkpoint you want to evaluate by setting \"RUN\" and \"CHECKPOINT\"\n",
    "RUN = 46\n",
    "CHECKPOINT = \"checkpoint_val_loss_19.793_overall_steps_155252.pt\"\n",
    "IMAGE_INPUT_SIZE = 512\n",
    "BATCH_SIZE = 8\n",
    "NUM_BEAMS = 4\n",
    "MAX_NUM_TOKENS_GENERATE = 300\n",
    "\n",
    "# test csv file with only 1000 images (you can create it by setting NUM_ROWS_TO_CREATE_IN_NEW_CSV_FILES in line 67 of create_dataset.py to 1000)\n",
    "path_to_partial_test_set = \"/u/home/tanida/datasets/dataset-with-reference-reports-partial/test-200.csv\"\n",
    "\n",
    "# path where \"bbox_variations_results.txt\" will be saved\n",
    "path_results_txt_file = \"/u/home/tanida/region-guided-chest-x-ray-report-generation/src/full_model/evaluate_bbox_variations/bbox_variations_results.txt\""
   ]
  },
  {
   "cell_type": "code",
   "execution_count": 2,
   "metadata": {},
   "outputs": [],
   "source": [
    "def get_test_set_as_df():\n",
    "    def compute_bbox_widths_heights(row):\n",
    "        bbox_coordinates_single_image = row[\"bbox_coordinates\"]\n",
    "        widths_heights = []\n",
    "        for bbox_coords in bbox_coordinates_single_image:\n",
    "            x1, y1, x2, y2 = bbox_coords\n",
    "            width = x2 - x1\n",
    "            height = y2 - y1\n",
    "            widths_heights.append([width, height])\n",
    "\n",
    "        return widths_heights\n",
    "\n",
    "    def retrieve_image_widths_heights(row):\n",
    "        mimic_image_file_path = row[\"mimic_image_file_path\"]\n",
    "        width, height = imagesize.get(mimic_image_file_path)\n",
    "        return [width, height]\n",
    "\n",
    "    usecols = [\n",
    "        \"mimic_image_file_path\",\n",
    "        \"bbox_coordinates\",\n",
    "        \"bbox_labels\",\n",
    "        \"bbox_phrases\"\n",
    "    ]\n",
    "\n",
    "    # all of the columns below are stored as strings in the csv_file\n",
    "    # however, as they are actually lists, we apply the literal_eval func to convert them to lists\n",
    "    converters = {\n",
    "        \"bbox_coordinates\": literal_eval,\n",
    "        \"bbox_labels\": literal_eval,\n",
    "        \"bbox_phrases\": literal_eval\n",
    "    }\n",
    "\n",
    "    test_set_as_df = pd.read_csv(path_to_partial_test_set, usecols=usecols, converters=converters)\n",
    "\n",
    "    # add new columns that contain the bbox_widths_heights (List[List[int]] with len(outer_list)=29 and len(inner_list) = 2)\n",
    "    # and image_width_height (List[int] of len 2)\n",
    "    test_set_as_df[\"bbox_widths_heights\"] = test_set_as_df.apply(lambda row: compute_bbox_widths_heights(row), axis=1)\n",
    "    test_set_as_df[\"image_width_height\"] = test_set_as_df.apply(lambda row: retrieve_image_widths_heights(row), axis=1)\n",
    "\n",
    "    return test_set_as_df"
   ]
  },
  {
   "cell_type": "code",
   "execution_count": 3,
   "metadata": {},
   "outputs": [],
   "source": [
    "test_set_as_df = get_test_set_as_df()"
   ]
  },
  {
   "cell_type": "code",
   "execution_count": 4,
   "metadata": {},
   "outputs": [],
   "source": [
    "tokenizer = get_tokenizer()"
   ]
  },
  {
   "cell_type": "code",
   "execution_count": 5,
   "metadata": {},
   "outputs": [],
   "source": [
    "num_images = len(test_set_as_df)"
   ]
  },
  {
   "cell_type": "code",
   "execution_count": 6,
   "metadata": {},
   "outputs": [],
   "source": [
    "mean = 0\n",
    "std = 0.5"
   ]
  },
  {
   "cell_type": "code",
   "execution_count": 7,
   "metadata": {},
   "outputs": [],
   "source": [
    "def get_transforms():\n",
    "    # see compute_mean_std_dataset.py in src/dataset\n",
    "    mean = 0.471\n",
    "    std = 0.302\n",
    "\n",
    "    # don't apply data augmentations to test set\n",
    "    test_transforms = A.Compose(\n",
    "        [\n",
    "            A.LongestMaxSize(max_size=IMAGE_INPUT_SIZE, interpolation=cv2.INTER_AREA),\n",
    "            A.PadIfNeeded(min_height=IMAGE_INPUT_SIZE, min_width=IMAGE_INPUT_SIZE, border_mode=cv2.BORDER_CONSTANT),\n",
    "            A.Normalize(mean=mean, std=std),\n",
    "            ToTensorV2(),\n",
    "        ],\n",
    "        bbox_params=A.BboxParams(format=\"pascal_voc\", label_fields=[\"class_labels\"]),\n",
    "    )\n",
    "\n",
    "    return test_transforms"
   ]
  },
  {
   "cell_type": "code",
   "execution_count": 8,
   "metadata": {},
   "outputs": [],
   "source": [
    "transforms = get_transforms()"
   ]
  },
  {
   "cell_type": "code",
   "execution_count": 9,
   "metadata": {},
   "outputs": [],
   "source": [
    "aspect_ratio_variations = np.exp(np.random.normal(mean, 1.0, size=(num_images, 29)))"
   ]
  },
  {
   "cell_type": "code",
   "execution_count": 10,
   "metadata": {},
   "outputs": [],
   "source": [
    "test_set_as_df[\"aspect_ratio_variations\"] = aspect_ratio_variations.tolist()"
   ]
  },
  {
   "cell_type": "code",
   "execution_count": 11,
   "metadata": {},
   "outputs": [
    {
     "data": {
      "text/html": [
       "<div>\n",
       "<style scoped>\n",
       "    .dataframe tbody tr th:only-of-type {\n",
       "        vertical-align: middle;\n",
       "    }\n",
       "\n",
       "    .dataframe tbody tr th {\n",
       "        vertical-align: top;\n",
       "    }\n",
       "\n",
       "    .dataframe thead th {\n",
       "        text-align: right;\n",
       "    }\n",
       "</style>\n",
       "<table border=\"1\" class=\"dataframe\">\n",
       "  <thead>\n",
       "    <tr style=\"text-align: right;\">\n",
       "      <th></th>\n",
       "      <th>mimic_image_file_path</th>\n",
       "      <th>bbox_coordinates</th>\n",
       "      <th>bbox_labels</th>\n",
       "      <th>bbox_phrases</th>\n",
       "      <th>bbox_widths_heights</th>\n",
       "      <th>image_width_height</th>\n",
       "      <th>aspect_ratio_variations</th>\n",
       "    </tr>\n",
       "  </thead>\n",
       "  <tbody>\n",
       "    <tr>\n",
       "      <th>0</th>\n",
       "      <td>/u/home/tanida/datasets/mimic-cxr-jpg/files/p1...</td>\n",
       "      <td>[[327, 231, 1200, 2114], [477, 300, 1200, 968]...</td>\n",
       "      <td>[1, 2, 3, 4, 5, 6, 7, 8, 9, 10, 11, 12, 13, 14...</td>\n",
       "      <td>[There is no focal consolidation, pleural effu...</td>\n",
       "      <td>[[873, 1883], [723, 668], [751, 423], [819, 72...</td>\n",
       "      <td>[2544, 3056]</td>\n",
       "      <td>[0.47207627009996284, 3.7298101144727123, 3.47...</td>\n",
       "    </tr>\n",
       "    <tr>\n",
       "      <th>1</th>\n",
       "      <td>/u/home/tanida/datasets/mimic-cxr-jpg/files/p1...</td>\n",
       "      <td>[[300, 382, 1227, 2332], [477, 436, 1227, 1118...</td>\n",
       "      <td>[1, 2, 3, 4, 5, 6, 7, 8, 9, 10, 11, 12, 13, 14...</td>\n",
       "      <td>[Pulmonary vasculature is normal. Lungs are cl...</td>\n",
       "      <td>[[927, 1950], [750, 682], [778, 437], [859, 77...</td>\n",
       "      <td>[2544, 3056]</td>\n",
       "      <td>[1.2130515457799664, 1.418061689779785, 1.8061...</td>\n",
       "    </tr>\n",
       "    <tr>\n",
       "      <th>2</th>\n",
       "      <td>/u/home/tanida/datasets/mimic-cxr-jpg/files/p1...</td>\n",
       "      <td>[[229, 652, 1171, 2330], [386, 676, 1086, 1135...</td>\n",
       "      <td>[1, 2, 3, 4, 5, 6, 7, 8, 9, 10, 11, 12, 13, 14...</td>\n",
       "      <td>[No acute intrathoracic process. There is no f...</td>\n",
       "      <td>[[942, 1678], [700, 459], [870, 434], [942, 76...</td>\n",
       "      <td>[2539, 2705]</td>\n",
       "      <td>[0.9991927276203627, 0.5280679905555473, 4.926...</td>\n",
       "    </tr>\n",
       "    <tr>\n",
       "      <th>3</th>\n",
       "      <td>/u/home/tanida/datasets/mimic-cxr-jpg/files/p1...</td>\n",
       "      <td>[[467, 596, 1453, 2451], [505, 648, 1206, 1154...</td>\n",
       "      <td>[1, 2, 3, 4, 5, 6, 7, 8, 9, 10, 11, 12, 13, 14...</td>\n",
       "      <td>[No acute intrathoracic process. There is no f...</td>\n",
       "      <td>[[986, 1855], [701, 506], [817, 467], [973, 83...</td>\n",
       "      <td>[2258, 2906]</td>\n",
       "      <td>[3.424713621223937, 0.5865182479234781, 0.7146...</td>\n",
       "    </tr>\n",
       "    <tr>\n",
       "      <th>4</th>\n",
       "      <td>/u/home/tanida/datasets/mimic-cxr-jpg/files/p1...</td>\n",
       "      <td>[[286, 341, 1255, 2073], [450, 368, 1255, 1036...</td>\n",
       "      <td>[1, 2, 3, 4, 5, 6, 7, 8, 9, 10, 11, 12, 13, 14...</td>\n",
       "      <td>[The lungs are clear of focal consolidation, p...</td>\n",
       "      <td>[[969, 1732], [805, 668], [846, 369], [873, 66...</td>\n",
       "      <td>[2544, 3056]</td>\n",
       "      <td>[1.7741734241947746, 1.3750439836832253, 0.924...</td>\n",
       "    </tr>\n",
       "  </tbody>\n",
       "</table>\n",
       "</div>"
      ],
      "text/plain": [
       "                               mimic_image_file_path  \\\n",
       "0  /u/home/tanida/datasets/mimic-cxr-jpg/files/p1...   \n",
       "1  /u/home/tanida/datasets/mimic-cxr-jpg/files/p1...   \n",
       "2  /u/home/tanida/datasets/mimic-cxr-jpg/files/p1...   \n",
       "3  /u/home/tanida/datasets/mimic-cxr-jpg/files/p1...   \n",
       "4  /u/home/tanida/datasets/mimic-cxr-jpg/files/p1...   \n",
       "\n",
       "                                    bbox_coordinates  \\\n",
       "0  [[327, 231, 1200, 2114], [477, 300, 1200, 968]...   \n",
       "1  [[300, 382, 1227, 2332], [477, 436, 1227, 1118...   \n",
       "2  [[229, 652, 1171, 2330], [386, 676, 1086, 1135...   \n",
       "3  [[467, 596, 1453, 2451], [505, 648, 1206, 1154...   \n",
       "4  [[286, 341, 1255, 2073], [450, 368, 1255, 1036...   \n",
       "\n",
       "                                         bbox_labels  \\\n",
       "0  [1, 2, 3, 4, 5, 6, 7, 8, 9, 10, 11, 12, 13, 14...   \n",
       "1  [1, 2, 3, 4, 5, 6, 7, 8, 9, 10, 11, 12, 13, 14...   \n",
       "2  [1, 2, 3, 4, 5, 6, 7, 8, 9, 10, 11, 12, 13, 14...   \n",
       "3  [1, 2, 3, 4, 5, 6, 7, 8, 9, 10, 11, 12, 13, 14...   \n",
       "4  [1, 2, 3, 4, 5, 6, 7, 8, 9, 10, 11, 12, 13, 14...   \n",
       "\n",
       "                                        bbox_phrases  \\\n",
       "0  [There is no focal consolidation, pleural effu...   \n",
       "1  [Pulmonary vasculature is normal. Lungs are cl...   \n",
       "2  [No acute intrathoracic process. There is no f...   \n",
       "3  [No acute intrathoracic process. There is no f...   \n",
       "4  [The lungs are clear of focal consolidation, p...   \n",
       "\n",
       "                                 bbox_widths_heights image_width_height  \\\n",
       "0  [[873, 1883], [723, 668], [751, 423], [819, 72...       [2544, 3056]   \n",
       "1  [[927, 1950], [750, 682], [778, 437], [859, 77...       [2544, 3056]   \n",
       "2  [[942, 1678], [700, 459], [870, 434], [942, 76...       [2539, 2705]   \n",
       "3  [[986, 1855], [701, 506], [817, 467], [973, 83...       [2258, 2906]   \n",
       "4  [[969, 1732], [805, 668], [846, 369], [873, 66...       [2544, 3056]   \n",
       "\n",
       "                             aspect_ratio_variations  \n",
       "0  [0.47207627009996284, 3.7298101144727123, 3.47...  \n",
       "1  [1.2130515457799664, 1.418061689779785, 1.8061...  \n",
       "2  [0.9991927276203627, 0.5280679905555473, 4.926...  \n",
       "3  [3.424713621223937, 0.5865182479234781, 0.7146...  \n",
       "4  [1.7741734241947746, 1.3750439836832253, 0.924...  "
      ]
     },
     "execution_count": 11,
     "metadata": {},
     "output_type": "execute_result"
    }
   ],
   "source": [
    "test_set_as_df.head()"
   ]
  },
  {
   "cell_type": "code",
   "execution_count": 15,
   "metadata": {},
   "outputs": [],
   "source": [
    "import math"
   ]
  },
  {
   "cell_type": "code",
   "execution_count": 12,
   "metadata": {},
   "outputs": [],
   "source": [
    "def check_coordinate(coord, dimension):\n",
    "    \"\"\"Make sure that new (varied) coordinate is still within the image.\"\"\"\n",
    "    if coord < 0:\n",
    "        return 0\n",
    "    elif coord > dimension:\n",
    "        return dimension\n",
    "    else:\n",
    "        return coord\n",
    "\n",
    "def vary_bbox_coords_by_aspect_ratio(row):\n",
    "    bbox_coords_single_image = row[\"bbox_coordinates\"]  # List[List[int]] of shape 29 x 4\n",
    "    bbox_widths_heights_single_image = row[\"bbox_widths_heights\"]  # List[List[int]] of shape 29 x 2\n",
    "    aspect_ratio_variations_bboxes = row[\"aspect_ratio_variations\"]  # List[float] of len 29\n",
    "    image_width, image_height = row[\"image_width_height\"]  # two integers\n",
    "\n",
    "    # to store the new bbox coordinates after they have been varied\n",
    "    varied_bbox_coords_single_image = []\n",
    "\n",
    "    for bbox_coords, bbox_width_height, ratio_variation in zip(bbox_coords_single_image, bbox_widths_heights_single_image, aspect_ratio_variations_bboxes):\n",
    "        x1, y1, x2, y2 = bbox_coords\n",
    "        bbox_width, bbox_height = bbox_width_height\n",
    "        # gt_bbox_mid_point stays the same for the bbox varied in its aspect ratio, and thus serves as the \"anchor point\"\n",
    "        # to compute the new bbox coordinates (using the new bbox width and height)\n",
    "        ground_truth_bbox_mid_point_x = x1 + bbox_width / 2\n",
    "        ground_truth_bbox_mid_point_y = y1 + bbox_height / 2\n",
    "        bbox_area = bbox_width * bbox_height\n",
    "        bbox_aspect_ratio = bbox_width / bbox_height\n",
    "\n",
    "        # ratio_variation is a single positive float, e.g. 1.232 or 0.845\n",
    "        bbox_aspect_ratio_new = ratio_variation * bbox_aspect_ratio\n",
    "\n",
    "        # the new bbox height and width are computed by solving the 2 equations\n",
    "        # 1) bbox_width_new / bbox_height_new = bbox_aspect_ratio_new\n",
    "        # 2) bbox_width_new * bbox_height_new = bbox_area\n",
    "        bbox_height_new = math.sqrt(bbox_area / bbox_aspect_ratio_new)\n",
    "        bbox_width_new = bbox_aspect_ratio_new * bbox_height_new\n",
    "\n",
    "        x1_new = ground_truth_bbox_mid_point_x - bbox_width_new / 2\n",
    "        x2_new = ground_truth_bbox_mid_point_x + bbox_width_new / 2\n",
    "\n",
    "        y1_new = ground_truth_bbox_mid_point_y - bbox_height_new / 2\n",
    "        y2_new = ground_truth_bbox_mid_point_y + bbox_height_new / 2\n",
    "\n",
    "        x1 = check_coordinate(int(x1_new), image_width)\n",
    "        x2 = check_coordinate(int(x2_new), image_width)\n",
    "        y1 = check_coordinate(int(y1_new), image_height)\n",
    "        y2 = check_coordinate(int(y2_new), image_height)\n",
    "\n",
    "        varied_bbox_coords_single_image.append([x1, y1, x2, y2])\n",
    "\n",
    "    return varied_bbox_coords_single_image"
   ]
  },
  {
   "cell_type": "code",
   "execution_count": 16,
   "metadata": {},
   "outputs": [],
   "source": [
    "variation_func = vary_bbox_coords_by_aspect_ratio"
   ]
  },
  {
   "cell_type": "code",
   "execution_count": 17,
   "metadata": {},
   "outputs": [],
   "source": [
    "test_set_as_df[\"bbox_coordinates_varied\"] = test_set_as_df.apply(lambda row: variation_func(row), axis=1)"
   ]
  },
  {
   "cell_type": "code",
   "execution_count": 18,
   "metadata": {},
   "outputs": [
    {
     "data": {
      "text/html": [
       "<div>\n",
       "<style scoped>\n",
       "    .dataframe tbody tr th:only-of-type {\n",
       "        vertical-align: middle;\n",
       "    }\n",
       "\n",
       "    .dataframe tbody tr th {\n",
       "        vertical-align: top;\n",
       "    }\n",
       "\n",
       "    .dataframe thead th {\n",
       "        text-align: right;\n",
       "    }\n",
       "</style>\n",
       "<table border=\"1\" class=\"dataframe\">\n",
       "  <thead>\n",
       "    <tr style=\"text-align: right;\">\n",
       "      <th></th>\n",
       "      <th>mimic_image_file_path</th>\n",
       "      <th>bbox_coordinates</th>\n",
       "      <th>bbox_labels</th>\n",
       "      <th>bbox_phrases</th>\n",
       "      <th>bbox_widths_heights</th>\n",
       "      <th>image_width_height</th>\n",
       "      <th>aspect_ratio_variations</th>\n",
       "      <th>bbox_coordinates_varied</th>\n",
       "    </tr>\n",
       "  </thead>\n",
       "  <tbody>\n",
       "    <tr>\n",
       "      <th>0</th>\n",
       "      <td>/u/home/tanida/datasets/mimic-cxr-jpg/files/p1...</td>\n",
       "      <td>[[327, 231, 1200, 2114], [477, 300, 1200, 968]...</td>\n",
       "      <td>[1, 2, 3, 4, 5, 6, 7, 8, 9, 10, 11, 12, 13, 14...</td>\n",
       "      <td>[There is no focal consolidation, pleural effu...</td>\n",
       "      <td>[[873, 1883], [723, 668], [751, 423], [819, 72...</td>\n",
       "      <td>[2544, 3056]</td>\n",
       "      <td>[0.47207627009996284, 3.7298101144727123, 3.47...</td>\n",
       "      <td>[[463, 0, 1063, 2542], [140, 461, 1536, 806], ...</td>\n",
       "    </tr>\n",
       "    <tr>\n",
       "      <th>1</th>\n",
       "      <td>/u/home/tanida/datasets/mimic-cxr-jpg/files/p1...</td>\n",
       "      <td>[[300, 382, 1227, 2332], [477, 436, 1227, 1118...</td>\n",
       "      <td>[1, 2, 3, 4, 5, 6, 7, 8, 9, 10, 11, 12, 13, 14...</td>\n",
       "      <td>[Pulmonary vasculature is normal. Lungs are cl...</td>\n",
       "      <td>[[927, 1950], [750, 682], [778, 437], [859, 77...</td>\n",
       "      <td>[2544, 3056]</td>\n",
       "      <td>[1.2130515457799664, 1.418061689779785, 1.8061...</td>\n",
       "      <td>[[253, 471, 1273, 2242], [405, 490, 1298, 1063...</td>\n",
       "    </tr>\n",
       "    <tr>\n",
       "      <th>2</th>\n",
       "      <td>/u/home/tanida/datasets/mimic-cxr-jpg/files/p1...</td>\n",
       "      <td>[[229, 652, 1171, 2330], [386, 676, 1086, 1135...</td>\n",
       "      <td>[1, 2, 3, 4, 5, 6, 7, 8, 9, 10, 11, 12, 13, 14...</td>\n",
       "      <td>[No acute intrathoracic process. There is no f...</td>\n",
       "      <td>[[942, 1678], [700, 459], [870, 434], [942, 76...</td>\n",
       "      <td>[2539, 2705]</td>\n",
       "      <td>[0.9991927276203627, 0.5280679905555473, 4.926...</td>\n",
       "      <td>[[229, 651, 1170, 2330], [481, 589, 990, 1221]...</td>\n",
       "    </tr>\n",
       "    <tr>\n",
       "      <th>3</th>\n",
       "      <td>/u/home/tanida/datasets/mimic-cxr-jpg/files/p1...</td>\n",
       "      <td>[[467, 596, 1453, 2451], [505, 648, 1206, 1154...</td>\n",
       "      <td>[1, 2, 3, 4, 5, 6, 7, 8, 9, 10, 11, 12, 13, 14...</td>\n",
       "      <td>[No acute intrathoracic process. There is no f...</td>\n",
       "      <td>[[986, 1855], [701, 506], [817, 467], [973, 83...</td>\n",
       "      <td>[2258, 2906]</td>\n",
       "      <td>[3.424713621223937, 0.5865182479234781, 0.7146...</td>\n",
       "      <td>[[47, 1022, 1872, 2024], [587, 570, 1123, 1231...</td>\n",
       "    </tr>\n",
       "    <tr>\n",
       "      <th>4</th>\n",
       "      <td>/u/home/tanida/datasets/mimic-cxr-jpg/files/p1...</td>\n",
       "      <td>[[286, 341, 1255, 2073], [450, 368, 1255, 1036...</td>\n",
       "      <td>[1, 2, 3, 4, 5, 6, 7, 8, 9, 10, 11, 12, 13, 14...</td>\n",
       "      <td>[The lungs are clear of focal consolidation, p...</td>\n",
       "      <td>[[969, 1732], [805, 668], [846, 369], [873, 66...</td>\n",
       "      <td>[2544, 3056]</td>\n",
       "      <td>[1.7741734241947746, 1.3750439836832253, 0.924...</td>\n",
       "      <td>[[125, 556, 1415, 1857], [380, 417, 1324, 986]...</td>\n",
       "    </tr>\n",
       "  </tbody>\n",
       "</table>\n",
       "</div>"
      ],
      "text/plain": [
       "                               mimic_image_file_path  \\\n",
       "0  /u/home/tanida/datasets/mimic-cxr-jpg/files/p1...   \n",
       "1  /u/home/tanida/datasets/mimic-cxr-jpg/files/p1...   \n",
       "2  /u/home/tanida/datasets/mimic-cxr-jpg/files/p1...   \n",
       "3  /u/home/tanida/datasets/mimic-cxr-jpg/files/p1...   \n",
       "4  /u/home/tanida/datasets/mimic-cxr-jpg/files/p1...   \n",
       "\n",
       "                                    bbox_coordinates  \\\n",
       "0  [[327, 231, 1200, 2114], [477, 300, 1200, 968]...   \n",
       "1  [[300, 382, 1227, 2332], [477, 436, 1227, 1118...   \n",
       "2  [[229, 652, 1171, 2330], [386, 676, 1086, 1135...   \n",
       "3  [[467, 596, 1453, 2451], [505, 648, 1206, 1154...   \n",
       "4  [[286, 341, 1255, 2073], [450, 368, 1255, 1036...   \n",
       "\n",
       "                                         bbox_labels  \\\n",
       "0  [1, 2, 3, 4, 5, 6, 7, 8, 9, 10, 11, 12, 13, 14...   \n",
       "1  [1, 2, 3, 4, 5, 6, 7, 8, 9, 10, 11, 12, 13, 14...   \n",
       "2  [1, 2, 3, 4, 5, 6, 7, 8, 9, 10, 11, 12, 13, 14...   \n",
       "3  [1, 2, 3, 4, 5, 6, 7, 8, 9, 10, 11, 12, 13, 14...   \n",
       "4  [1, 2, 3, 4, 5, 6, 7, 8, 9, 10, 11, 12, 13, 14...   \n",
       "\n",
       "                                        bbox_phrases  \\\n",
       "0  [There is no focal consolidation, pleural effu...   \n",
       "1  [Pulmonary vasculature is normal. Lungs are cl...   \n",
       "2  [No acute intrathoracic process. There is no f...   \n",
       "3  [No acute intrathoracic process. There is no f...   \n",
       "4  [The lungs are clear of focal consolidation, p...   \n",
       "\n",
       "                                 bbox_widths_heights image_width_height  \\\n",
       "0  [[873, 1883], [723, 668], [751, 423], [819, 72...       [2544, 3056]   \n",
       "1  [[927, 1950], [750, 682], [778, 437], [859, 77...       [2544, 3056]   \n",
       "2  [[942, 1678], [700, 459], [870, 434], [942, 76...       [2539, 2705]   \n",
       "3  [[986, 1855], [701, 506], [817, 467], [973, 83...       [2258, 2906]   \n",
       "4  [[969, 1732], [805, 668], [846, 369], [873, 66...       [2544, 3056]   \n",
       "\n",
       "                             aspect_ratio_variations  \\\n",
       "0  [0.47207627009996284, 3.7298101144727123, 3.47...   \n",
       "1  [1.2130515457799664, 1.418061689779785, 1.8061...   \n",
       "2  [0.9991927276203627, 0.5280679905555473, 4.926...   \n",
       "3  [3.424713621223937, 0.5865182479234781, 0.7146...   \n",
       "4  [1.7741734241947746, 1.3750439836832253, 0.924...   \n",
       "\n",
       "                             bbox_coordinates_varied  \n",
       "0  [[463, 0, 1063, 2542], [140, 461, 1536, 806], ...  \n",
       "1  [[253, 471, 1273, 2242], [405, 490, 1298, 1063...  \n",
       "2  [[229, 651, 1170, 2330], [481, 589, 990, 1221]...  \n",
       "3  [[47, 1022, 1872, 2024], [587, 570, 1123, 1231...  \n",
       "4  [[125, 556, 1415, 1857], [380, 417, 1324, 986]...  "
      ]
     },
     "execution_count": 18,
     "metadata": {},
     "output_type": "execute_result"
    }
   ],
   "source": [
    "test_set_as_df.head()"
   ]
  },
  {
   "cell_type": "code",
   "execution_count": 137,
   "metadata": {},
   "outputs": [
    {
     "data": {
      "text/plain": [
       "[[180, 608, 940, 1752],\n",
       " [0, 0, 2080, 1672],\n",
       " [508, 1133, 717, 1214],\n",
       " [0, 1262, 1089, 2101],\n",
       " [645, 950, 1056, 1384],\n",
       " [224, 254, 1305, 774],\n",
       " [40, 1814, 104, 1931],\n",
       " [0, 1005, 2956, 2539],\n",
       " [1473, 617, 2023, 1400],\n",
       " [1513, 531, 1943, 839],\n",
       " [1767, 1110, 1794, 1118],\n",
       " [0, 637, 2956, 2277],\n",
       " [1130, 795, 1969, 1420],\n",
       " [0, 0, 2956, 2539],\n",
       " [1957, 1362, 2475, 1883],\n",
       " [1551, 1589, 1945, 1827],\n",
       " [0, 0, 2482, 2539],\n",
       " [0, 0, 2542, 2539],\n",
       " [207, 101, 1151, 768],\n",
       " [807, 0, 2556, 1086],\n",
       " [1351, 834, 1457, 919],\n",
       " [1153, 933, 1695, 1652],\n",
       " [1188, 756, 1568, 1064],\n",
       " [785, 559, 1403, 1485],\n",
       " [410, 997, 2438, 2340],\n",
       " [896, 1331, 1068, 1504],\n",
       " [908, 1645, 1056, 1942],\n",
       " [1146, 935, 1293, 1082],\n",
       " [825, 1877, 1404, 2152]]"
      ]
     },
     "execution_count": 137,
     "metadata": {},
     "output_type": "execute_result"
    }
   ],
   "source": [
    "test_set_as_df.iloc[68][\"bbox_coordinates_varied\"]"
   ]
  },
  {
   "cell_type": "code",
   "execution_count": 136,
   "metadata": {},
   "outputs": [
    {
     "name": "stdout",
     "output_type": "stream",
     "text": [
      "68 10\n",
      "80 27\n",
      "107 6\n",
      "123 27\n",
      "144 18\n",
      "153 27\n",
      "163 27\n"
     ]
    }
   ],
   "source": [
    "for i in range(200):\n",
    "    bboxes = test_set_as_df.iloc[i][\"bbox_coordinates_varied\"]\n",
    "    for bbox_coords_index, bbox_coords in enumerate(bboxes):\n",
    "        x1, y1, x2, y2 = bbox_coords\n",
    "        if x2 - x1 < 10 or y2 - y1 < 10:\n",
    "            print(i, bbox_coords_index)"
   ]
  },
  {
   "cell_type": "code",
   "execution_count": 4,
   "metadata": {},
   "outputs": [
    {
     "data": {
      "text/plain": [
       "array([-0.59525181,  0.10993591, -0.10645957, -0.70574957, -0.24149051,\n",
       "        0.60088104, -0.35290152,  0.01259068, -0.19556408,  0.09656956])"
      ]
     },
     "execution_count": 4,
     "metadata": {},
     "output_type": "execute_result"
    }
   ],
   "source": [
    "np.random.normal(0, 0.5, size=10)"
   ]
  },
  {
   "cell_type": "code",
   "execution_count": 5,
   "metadata": {},
   "outputs": [
    {
     "data": {
      "text/plain": [
       "array([ 0.34929093,  0.59118838,  0.52040987,  0.82522239,  0.42620351,\n",
       "        0.19564003, -0.51411218, -3.07368882, -0.39515907, -0.79539918])"
      ]
     },
     "execution_count": 5,
     "metadata": {},
     "output_type": "execute_result"
    }
   ],
   "source": [
    "np.random.normal(0, 1.0, size=10)"
   ]
  },
  {
   "cell_type": "code",
   "execution_count": null,
   "metadata": {},
   "outputs": [],
   "source": []
  },
  {
   "cell_type": "code",
   "execution_count": 8,
   "metadata": {},
   "outputs": [
    {
     "data": {
      "text/plain": [
       "array([ 0.79734168,  0.00930649,  0.28070434, -0.09923841,  0.23160378,\n",
       "       -0.90954699,  0.06646241, -0.30853982,  0.65408975,  0.38791886])"
      ]
     },
     "execution_count": 8,
     "metadata": {},
     "output_type": "execute_result"
    }
   ],
   "source": [
    "np.random.normal(0, 0.5, size=10)"
   ]
  },
  {
   "cell_type": "code",
   "execution_count": 9,
   "metadata": {},
   "outputs": [
    {
     "data": {
      "text/plain": [
       "array([-0.2801704 , -0.72393771, -0.94331004,  0.56168624, -0.69279264,\n",
       "        1.70175958, -1.05172261, -0.66115156, -1.01089971, -1.45888071])"
      ]
     },
     "execution_count": 9,
     "metadata": {},
     "output_type": "execute_result"
    }
   ],
   "source": [
    "np.random.normal(0, 1, size=10)"
   ]
  },
  {
   "cell_type": "code",
   "execution_count": 6,
   "metadata": {},
   "outputs": [
    {
     "data": {
      "text/plain": [
       "array([0.70356096, 0.41949808, 1.45557954, 0.39377462, 1.23275992,\n",
       "       0.88899211, 1.24116889, 1.54518859, 2.73002589, 1.98552915])"
      ]
     },
     "execution_count": 6,
     "metadata": {},
     "output_type": "execute_result"
    }
   ],
   "source": [
    "np.exp(np.random.normal(0, 0.5, size=10))"
   ]
  },
  {
   "cell_type": "code",
   "execution_count": 7,
   "metadata": {},
   "outputs": [
    {
     "data": {
      "text/plain": [
       "array([2.88232681, 4.24328428, 1.05003478, 1.0945349 , 0.6186245 ,\n",
       "       1.3507537 , 3.04341375, 0.98087029, 0.99919273, 0.52806799])"
      ]
     },
     "execution_count": 7,
     "metadata": {},
     "output_type": "execute_result"
    }
   ],
   "source": [
    "np.exp(np.random.normal(0, 1.0, size=10))"
   ]
  },
  {
   "cell_type": "code",
   "execution_count": null,
   "metadata": {},
   "outputs": [],
   "source": []
  }
 ],
 "metadata": {
  "interpreter": {
   "hash": "af344a1d4a4009a9796a149eae461abe839e0a1e355ecc657514cba65d6053da"
  },
  "kernelspec": {
   "display_name": "Python 3.10.4 ('cxr_env')",
   "language": "python",
   "name": "python3"
  },
  "language_info": {
   "codemirror_mode": {
    "name": "ipython",
    "version": 3
   },
   "file_extension": ".py",
   "mimetype": "text/x-python",
   "name": "python",
   "nbconvert_exporter": "python",
   "pygments_lexer": "ipython3",
   "version": "3.10.4"
  },
  "orig_nbformat": 4
 },
 "nbformat": 4,
 "nbformat_minor": 2
}
