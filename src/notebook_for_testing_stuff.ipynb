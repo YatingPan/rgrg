{
 "cells": [
  {
   "cell_type": "code",
   "execution_count": 11,
   "metadata": {},
   "outputs": [],
   "source": [
    "from ast import literal_eval\n",
    "import pandas as pd\n",
    "import os"
   ]
  },
  {
   "cell_type": "code",
   "execution_count": 12,
   "metadata": {},
   "outputs": [],
   "source": [
    "path_full_dataset = \"/u/home/tanida/datasets/dataset-with-reference-reports-partial-1000\"\n",
    "NUM_IMAGES_TO_EVALUATE_PER_VARIATION = 1000"
   ]
  },
  {
   "cell_type": "code",
   "execution_count": 14,
   "metadata": {},
   "outputs": [],
   "source": [
    "usecols = [\n",
    "    \"mimic_image_file_path\",\n",
    "    \"bbox_coordinates\",\n",
    "    \"bbox_labels\",\n",
    "    \"bbox_phrases\",\n",
    "    \"bbox_phrase_exists\",\n",
    "    \"bbox_is_abnormal\",\n",
    "    \"reference_report\"\n",
    "]\n",
    "\n",
    "# all of the columns below are stored as strings in the csv_file\n",
    "# however, as they are actually lists, we apply the literal_eval func to convert them to lists\n",
    "converters = {\n",
    "    \"bbox_coordinates\": literal_eval,\n",
    "    \"bbox_labels\": literal_eval,\n",
    "    \"bbox_phrases\": literal_eval,\n",
    "    \"bbox_phrase_exists\": literal_eval,\n",
    "    \"bbox_is_abnormal\": literal_eval,\n",
    "}\n",
    "\n",
    "dataset_as_df = pd.read_csv(os.path.join(path_full_dataset, \"test-1000.csv\"), usecols=usecols, converters=converters)"
   ]
  },
  {
   "cell_type": "code",
   "execution_count": null,
   "metadata": {},
   "outputs": [],
   "source": []
  },
  {
   "cell_type": "code",
   "execution_count": 16,
   "metadata": {},
   "outputs": [
    {
     "data": {
      "text/plain": [
       "1000"
      ]
     },
     "execution_count": 16,
     "metadata": {},
     "output_type": "execute_result"
    }
   ],
   "source": [
    "len(dataset_as_df)"
   ]
  },
  {
   "cell_type": "code",
   "execution_count": 21,
   "metadata": {},
   "outputs": [
    {
     "data": {
      "text/html": [
       "<div>\n",
       "<style scoped>\n",
       "    .dataframe tbody tr th:only-of-type {\n",
       "        vertical-align: middle;\n",
       "    }\n",
       "\n",
       "    .dataframe tbody tr th {\n",
       "        vertical-align: top;\n",
       "    }\n",
       "\n",
       "    .dataframe thead th {\n",
       "        text-align: right;\n",
       "    }\n",
       "</style>\n",
       "<table border=\"1\" class=\"dataframe\">\n",
       "  <thead>\n",
       "    <tr style=\"text-align: right;\">\n",
       "      <th></th>\n",
       "      <th>mimic_image_file_path</th>\n",
       "      <th>bbox_coordinates</th>\n",
       "      <th>bbox_labels</th>\n",
       "      <th>bbox_phrases</th>\n",
       "      <th>bbox_phrase_exists</th>\n",
       "      <th>bbox_is_abnormal</th>\n",
       "      <th>reference_report</th>\n",
       "    </tr>\n",
       "  </thead>\n",
       "  <tbody>\n",
       "    <tr>\n",
       "      <th>0</th>\n",
       "      <td>/u/home/tanida/datasets/mimic-cxr-jpg/files/p1...</td>\n",
       "      <td>[[327, 231, 1200, 2114], [477, 300, 1200, 968]...</td>\n",
       "      <td>[1, 2, 3, 4, 5, 6, 7, 8, 9, 10, 11, 12, 13, 14...</td>\n",
       "      <td>[There is no focal consolidation, pleural effu...</td>\n",
       "      <td>[True, False, False, True, False, False, True,...</td>\n",
       "      <td>[False, False, False, False, False, False, Fal...</td>\n",
       "      <td>There is no focal consolidation, pleural effus...</td>\n",
       "    </tr>\n",
       "    <tr>\n",
       "      <th>1</th>\n",
       "      <td>/u/home/tanida/datasets/mimic-cxr-jpg/files/p1...</td>\n",
       "      <td>[[300, 382, 1227, 2332], [477, 436, 1227, 1118...</td>\n",
       "      <td>[1, 2, 3, 4, 5, 6, 7, 8, 9, 10, 11, 12, 13, 14...</td>\n",
       "      <td>[Pulmonary vasculature is normal. Lungs are cl...</td>\n",
       "      <td>[True, False, False, False, True, False, True,...</td>\n",
       "      <td>[False, False, False, False, False, False, Fal...</td>\n",
       "      <td>The cardiac, mediastinal and hilar contours ar...</td>\n",
       "    </tr>\n",
       "    <tr>\n",
       "      <th>2</th>\n",
       "      <td>/u/home/tanida/datasets/mimic-cxr-jpg/files/p1...</td>\n",
       "      <td>[[229, 652, 1171, 2330], [386, 676, 1086, 1135...</td>\n",
       "      <td>[1, 2, 3, 4, 5, 6, 7, 8, 9, 10, 11, 12, 13, 14...</td>\n",
       "      <td>[No acute intrathoracic process. There is no f...</td>\n",
       "      <td>[True, False, False, False, False, True, True,...</td>\n",
       "      <td>[False, False, False, False, False, False, Fal...</td>\n",
       "      <td>Single frontal view of the chest provided. The...</td>\n",
       "    </tr>\n",
       "    <tr>\n",
       "      <th>3</th>\n",
       "      <td>/u/home/tanida/datasets/mimic-cxr-jpg/files/p1...</td>\n",
       "      <td>[[467, 596, 1453, 2451], [505, 648, 1206, 1154...</td>\n",
       "      <td>[1, 2, 3, 4, 5, 6, 7, 8, 9, 10, 11, 12, 13, 14...</td>\n",
       "      <td>[No acute intrathoracic process. There is no f...</td>\n",
       "      <td>[True, False, False, False, False, True, True,...</td>\n",
       "      <td>[False, False, False, False, False, False, Fal...</td>\n",
       "      <td>Single frontal view of the chest provided. The...</td>\n",
       "    </tr>\n",
       "    <tr>\n",
       "      <th>4</th>\n",
       "      <td>/u/home/tanida/datasets/mimic-cxr-jpg/files/p1...</td>\n",
       "      <td>[[286, 341, 1255, 2073], [450, 368, 1255, 1036...</td>\n",
       "      <td>[1, 2, 3, 4, 5, 6, 7, 8, 9, 10, 11, 12, 13, 14...</td>\n",
       "      <td>[The lungs are clear of focal consolidation, p...</td>\n",
       "      <td>[True, False, False, False, False, False, True...</td>\n",
       "      <td>[False, False, False, False, False, False, Fal...</td>\n",
       "      <td>The lungs are clear of focal consolidation, pl...</td>\n",
       "    </tr>\n",
       "  </tbody>\n",
       "</table>\n",
       "</div>"
      ],
      "text/plain": [
       "                               mimic_image_file_path  \\\n",
       "0  /u/home/tanida/datasets/mimic-cxr-jpg/files/p1...   \n",
       "1  /u/home/tanida/datasets/mimic-cxr-jpg/files/p1...   \n",
       "2  /u/home/tanida/datasets/mimic-cxr-jpg/files/p1...   \n",
       "3  /u/home/tanida/datasets/mimic-cxr-jpg/files/p1...   \n",
       "4  /u/home/tanida/datasets/mimic-cxr-jpg/files/p1...   \n",
       "\n",
       "                                    bbox_coordinates  \\\n",
       "0  [[327, 231, 1200, 2114], [477, 300, 1200, 968]...   \n",
       "1  [[300, 382, 1227, 2332], [477, 436, 1227, 1118...   \n",
       "2  [[229, 652, 1171, 2330], [386, 676, 1086, 1135...   \n",
       "3  [[467, 596, 1453, 2451], [505, 648, 1206, 1154...   \n",
       "4  [[286, 341, 1255, 2073], [450, 368, 1255, 1036...   \n",
       "\n",
       "                                         bbox_labels  \\\n",
       "0  [1, 2, 3, 4, 5, 6, 7, 8, 9, 10, 11, 12, 13, 14...   \n",
       "1  [1, 2, 3, 4, 5, 6, 7, 8, 9, 10, 11, 12, 13, 14...   \n",
       "2  [1, 2, 3, 4, 5, 6, 7, 8, 9, 10, 11, 12, 13, 14...   \n",
       "3  [1, 2, 3, 4, 5, 6, 7, 8, 9, 10, 11, 12, 13, 14...   \n",
       "4  [1, 2, 3, 4, 5, 6, 7, 8, 9, 10, 11, 12, 13, 14...   \n",
       "\n",
       "                                        bbox_phrases  \\\n",
       "0  [There is no focal consolidation, pleural effu...   \n",
       "1  [Pulmonary vasculature is normal. Lungs are cl...   \n",
       "2  [No acute intrathoracic process. There is no f...   \n",
       "3  [No acute intrathoracic process. There is no f...   \n",
       "4  [The lungs are clear of focal consolidation, p...   \n",
       "\n",
       "                                  bbox_phrase_exists  \\\n",
       "0  [True, False, False, True, False, False, True,...   \n",
       "1  [True, False, False, False, True, False, True,...   \n",
       "2  [True, False, False, False, False, True, True,...   \n",
       "3  [True, False, False, False, False, True, True,...   \n",
       "4  [True, False, False, False, False, False, True...   \n",
       "\n",
       "                                    bbox_is_abnormal  \\\n",
       "0  [False, False, False, False, False, False, Fal...   \n",
       "1  [False, False, False, False, False, False, Fal...   \n",
       "2  [False, False, False, False, False, False, Fal...   \n",
       "3  [False, False, False, False, False, False, Fal...   \n",
       "4  [False, False, False, False, False, False, Fal...   \n",
       "\n",
       "                                    reference_report  \n",
       "0  There is no focal consolidation, pleural effus...  \n",
       "1  The cardiac, mediastinal and hilar contours ar...  \n",
       "2  Single frontal view of the chest provided. The...  \n",
       "3  Single frontal view of the chest provided. The...  \n",
       "4  The lungs are clear of focal consolidation, pl...  "
      ]
     },
     "execution_count": 21,
     "metadata": {},
     "output_type": "execute_result"
    }
   ],
   "source": [
    "dataset_as_df.head()"
   ]
  },
  {
   "cell_type": "code",
   "execution_count": 24,
   "metadata": {},
   "outputs": [
    {
     "data": {
      "text/plain": [
       "[[327, 231, 1200, 2114],\n",
       " [477, 300, 1200, 968],\n",
       " [422, 968, 1173, 1391],\n",
       " [327, 1391, 1146, 2114],\n",
       " [791, 873, 1186, 1473],\n",
       " [545, 231, 1200, 668],\n",
       " [191, 1923, 463, 2196],\n",
       " [327, 1814, 1296, 2114],\n",
       " [1364, 231, 2196, 2210],\n",
       " [1364, 300, 2114, 968],\n",
       " [1391, 968, 2128, 1418],\n",
       " [1391, 1418, 2196, 2210],\n",
       " [1377, 873, 1759, 1500],\n",
       " [1377, 231, 2046, 668],\n",
       " [2060, 2005, 2332, 2278],\n",
       " [1364, 1910, 2196, 2210],\n",
       " [1036, 177, 1405, 1337],\n",
       " [1064, 0, 1418, 3042],\n",
       " [231, 368, 1173, 668],\n",
       " [1418, 368, 2387, 654],\n",
       " [1309, 764, 1514, 968],\n",
       " [982, 518, 1814, 2019],\n",
       " [1105, 518, 1514, 1255],\n",
       " [1105, 764, 1309, 1255],\n",
       " [982, 1268, 1814, 2019],\n",
       " [982, 1268, 1227, 1500],\n",
       " [982, 1500, 1227, 1978],\n",
       " [1173, 927, 1296, 1050],\n",
       " [327, 1882, 2196, 3042]]"
      ]
     },
     "execution_count": 24,
     "metadata": {},
     "output_type": "execute_result"
    }
   ],
   "source": [
    "dataset_as_df.iloc[0][\"bbox_coordinates\"]"
   ]
  },
  {
   "cell_type": "code",
   "execution_count": 27,
   "metadata": {},
   "outputs": [],
   "source": [
    "def compute_width_height(row):\n",
    "    bbox_coordinates_single_image = row[\"bbox_coordinates\"]\n",
    "    widths_heights = []\n",
    "    for bbox_coords in bbox_coordinates_single_image:\n",
    "        x1, y1, x2, y2 = bbox_coords\n",
    "        width = x2 - x1\n",
    "        height = y2 - y1\n",
    "        widths_heights.append([width, height])\n",
    "\n",
    "    return widths_heights\n",
    "\n",
    "dataset_as_df[\"bbox_widths_heights\"] = dataset_as_df.apply(lambda row: compute_width_height(row), axis=1)"
   ]
  },
  {
   "cell_type": "code",
   "execution_count": 28,
   "metadata": {},
   "outputs": [
    {
     "data": {
      "text/html": [
       "<div>\n",
       "<style scoped>\n",
       "    .dataframe tbody tr th:only-of-type {\n",
       "        vertical-align: middle;\n",
       "    }\n",
       "\n",
       "    .dataframe tbody tr th {\n",
       "        vertical-align: top;\n",
       "    }\n",
       "\n",
       "    .dataframe thead th {\n",
       "        text-align: right;\n",
       "    }\n",
       "</style>\n",
       "<table border=\"1\" class=\"dataframe\">\n",
       "  <thead>\n",
       "    <tr style=\"text-align: right;\">\n",
       "      <th></th>\n",
       "      <th>mimic_image_file_path</th>\n",
       "      <th>bbox_coordinates</th>\n",
       "      <th>bbox_labels</th>\n",
       "      <th>bbox_phrases</th>\n",
       "      <th>bbox_phrase_exists</th>\n",
       "      <th>bbox_is_abnormal</th>\n",
       "      <th>reference_report</th>\n",
       "      <th>bbox_widths_heights</th>\n",
       "    </tr>\n",
       "  </thead>\n",
       "  <tbody>\n",
       "    <tr>\n",
       "      <th>0</th>\n",
       "      <td>/u/home/tanida/datasets/mimic-cxr-jpg/files/p1...</td>\n",
       "      <td>[[327, 231, 1200, 2114], [477, 300, 1200, 968]...</td>\n",
       "      <td>[1, 2, 3, 4, 5, 6, 7, 8, 9, 10, 11, 12, 13, 14...</td>\n",
       "      <td>[There is no focal consolidation, pleural effu...</td>\n",
       "      <td>[True, False, False, True, False, False, True,...</td>\n",
       "      <td>[False, False, False, False, False, False, Fal...</td>\n",
       "      <td>There is no focal consolidation, pleural effus...</td>\n",
       "      <td>[[873, 1883], [723, 668], [751, 423], [819, 72...</td>\n",
       "    </tr>\n",
       "    <tr>\n",
       "      <th>1</th>\n",
       "      <td>/u/home/tanida/datasets/mimic-cxr-jpg/files/p1...</td>\n",
       "      <td>[[300, 382, 1227, 2332], [477, 436, 1227, 1118...</td>\n",
       "      <td>[1, 2, 3, 4, 5, 6, 7, 8, 9, 10, 11, 12, 13, 14...</td>\n",
       "      <td>[Pulmonary vasculature is normal. Lungs are cl...</td>\n",
       "      <td>[True, False, False, False, True, False, True,...</td>\n",
       "      <td>[False, False, False, False, False, False, Fal...</td>\n",
       "      <td>The cardiac, mediastinal and hilar contours ar...</td>\n",
       "      <td>[[927, 1950], [750, 682], [778, 437], [859, 77...</td>\n",
       "    </tr>\n",
       "    <tr>\n",
       "      <th>2</th>\n",
       "      <td>/u/home/tanida/datasets/mimic-cxr-jpg/files/p1...</td>\n",
       "      <td>[[229, 652, 1171, 2330], [386, 676, 1086, 1135...</td>\n",
       "      <td>[1, 2, 3, 4, 5, 6, 7, 8, 9, 10, 11, 12, 13, 14...</td>\n",
       "      <td>[No acute intrathoracic process. There is no f...</td>\n",
       "      <td>[True, False, False, False, False, True, True,...</td>\n",
       "      <td>[False, False, False, False, False, False, Fal...</td>\n",
       "      <td>Single frontal view of the chest provided. The...</td>\n",
       "      <td>[[942, 1678], [700, 459], [870, 434], [942, 76...</td>\n",
       "    </tr>\n",
       "    <tr>\n",
       "      <th>3</th>\n",
       "      <td>/u/home/tanida/datasets/mimic-cxr-jpg/files/p1...</td>\n",
       "      <td>[[467, 596, 1453, 2451], [505, 648, 1206, 1154...</td>\n",
       "      <td>[1, 2, 3, 4, 5, 6, 7, 8, 9, 10, 11, 12, 13, 14...</td>\n",
       "      <td>[No acute intrathoracic process. There is no f...</td>\n",
       "      <td>[True, False, False, False, False, True, True,...</td>\n",
       "      <td>[False, False, False, False, False, False, Fal...</td>\n",
       "      <td>Single frontal view of the chest provided. The...</td>\n",
       "      <td>[[986, 1855], [701, 506], [817, 467], [973, 83...</td>\n",
       "    </tr>\n",
       "    <tr>\n",
       "      <th>4</th>\n",
       "      <td>/u/home/tanida/datasets/mimic-cxr-jpg/files/p1...</td>\n",
       "      <td>[[286, 341, 1255, 2073], [450, 368, 1255, 1036...</td>\n",
       "      <td>[1, 2, 3, 4, 5, 6, 7, 8, 9, 10, 11, 12, 13, 14...</td>\n",
       "      <td>[The lungs are clear of focal consolidation, p...</td>\n",
       "      <td>[True, False, False, False, False, False, True...</td>\n",
       "      <td>[False, False, False, False, False, False, Fal...</td>\n",
       "      <td>The lungs are clear of focal consolidation, pl...</td>\n",
       "      <td>[[969, 1732], [805, 668], [846, 369], [873, 66...</td>\n",
       "    </tr>\n",
       "  </tbody>\n",
       "</table>\n",
       "</div>"
      ],
      "text/plain": [
       "                               mimic_image_file_path  \\\n",
       "0  /u/home/tanida/datasets/mimic-cxr-jpg/files/p1...   \n",
       "1  /u/home/tanida/datasets/mimic-cxr-jpg/files/p1...   \n",
       "2  /u/home/tanida/datasets/mimic-cxr-jpg/files/p1...   \n",
       "3  /u/home/tanida/datasets/mimic-cxr-jpg/files/p1...   \n",
       "4  /u/home/tanida/datasets/mimic-cxr-jpg/files/p1...   \n",
       "\n",
       "                                    bbox_coordinates  \\\n",
       "0  [[327, 231, 1200, 2114], [477, 300, 1200, 968]...   \n",
       "1  [[300, 382, 1227, 2332], [477, 436, 1227, 1118...   \n",
       "2  [[229, 652, 1171, 2330], [386, 676, 1086, 1135...   \n",
       "3  [[467, 596, 1453, 2451], [505, 648, 1206, 1154...   \n",
       "4  [[286, 341, 1255, 2073], [450, 368, 1255, 1036...   \n",
       "\n",
       "                                         bbox_labels  \\\n",
       "0  [1, 2, 3, 4, 5, 6, 7, 8, 9, 10, 11, 12, 13, 14...   \n",
       "1  [1, 2, 3, 4, 5, 6, 7, 8, 9, 10, 11, 12, 13, 14...   \n",
       "2  [1, 2, 3, 4, 5, 6, 7, 8, 9, 10, 11, 12, 13, 14...   \n",
       "3  [1, 2, 3, 4, 5, 6, 7, 8, 9, 10, 11, 12, 13, 14...   \n",
       "4  [1, 2, 3, 4, 5, 6, 7, 8, 9, 10, 11, 12, 13, 14...   \n",
       "\n",
       "                                        bbox_phrases  \\\n",
       "0  [There is no focal consolidation, pleural effu...   \n",
       "1  [Pulmonary vasculature is normal. Lungs are cl...   \n",
       "2  [No acute intrathoracic process. There is no f...   \n",
       "3  [No acute intrathoracic process. There is no f...   \n",
       "4  [The lungs are clear of focal consolidation, p...   \n",
       "\n",
       "                                  bbox_phrase_exists  \\\n",
       "0  [True, False, False, True, False, False, True,...   \n",
       "1  [True, False, False, False, True, False, True,...   \n",
       "2  [True, False, False, False, False, True, True,...   \n",
       "3  [True, False, False, False, False, True, True,...   \n",
       "4  [True, False, False, False, False, False, True...   \n",
       "\n",
       "                                    bbox_is_abnormal  \\\n",
       "0  [False, False, False, False, False, False, Fal...   \n",
       "1  [False, False, False, False, False, False, Fal...   \n",
       "2  [False, False, False, False, False, False, Fal...   \n",
       "3  [False, False, False, False, False, False, Fal...   \n",
       "4  [False, False, False, False, False, False, Fal...   \n",
       "\n",
       "                                    reference_report  \\\n",
       "0  There is no focal consolidation, pleural effus...   \n",
       "1  The cardiac, mediastinal and hilar contours ar...   \n",
       "2  Single frontal view of the chest provided. The...   \n",
       "3  Single frontal view of the chest provided. The...   \n",
       "4  The lungs are clear of focal consolidation, pl...   \n",
       "\n",
       "                                 bbox_widths_heights  \n",
       "0  [[873, 1883], [723, 668], [751, 423], [819, 72...  \n",
       "1  [[927, 1950], [750, 682], [778, 437], [859, 77...  \n",
       "2  [[942, 1678], [700, 459], [870, 434], [942, 76...  \n",
       "3  [[986, 1855], [701, 506], [817, 467], [973, 83...  \n",
       "4  [[969, 1732], [805, 668], [846, 369], [873, 66...  "
      ]
     },
     "execution_count": 28,
     "metadata": {},
     "output_type": "execute_result"
    }
   ],
   "source": [
    "dataset_as_df.head()"
   ]
  },
  {
   "cell_type": "code",
   "execution_count": 29,
   "metadata": {},
   "outputs": [
    {
     "data": {
      "text/plain": [
       "[[300, 382, 1227, 2332],\n",
       " [477, 436, 1227, 1118],\n",
       " [422, 1118, 1200, 1555],\n",
       " [300, 1555, 1159, 2332],\n",
       " [804, 1023, 1214, 1637],\n",
       " [573, 382, 1227, 750],\n",
       " [163, 2128, 436, 2401],\n",
       " [300, 1950, 1350, 2332],\n",
       " [1405, 354, 2305, 2414],\n",
       " [1405, 409, 2182, 1118],\n",
       " [1432, 1118, 2210, 1582],\n",
       " [1432, 1582, 2305, 2414],\n",
       " [1418, 1023, 1814, 1664],\n",
       " [1432, 354, 2073, 750],\n",
       " [2169, 2210, 2442, 2483],\n",
       " [1405, 2101, 2305, 2414],\n",
       " [1077, 204, 1418, 1446],\n",
       " [1146, 0, 1459, 3042],\n",
       " [272, 382, 1200, 750],\n",
       " [1459, 477, 2387, 750],\n",
       " [1323, 900, 1528, 1118],\n",
       " [1009, 641, 1828, 2196],\n",
       " [1118, 641, 1541, 1405],\n",
       " [1118, 900, 1323, 1405],\n",
       " [1009, 1418, 1828, 2196],\n",
       " [1009, 1418, 1282, 1664],\n",
       " [1009, 1664, 1282, 2155],\n",
       " [1214, 1077, 1323, 1186],\n",
       " [300, 2019, 2305, 3042]]"
      ]
     },
     "execution_count": 29,
     "metadata": {},
     "output_type": "execute_result"
    }
   ],
   "source": [
    "dataset_as_df[\"bbox_coordinates\"].iloc[1]"
   ]
  },
  {
   "cell_type": "code",
   "execution_count": 19,
   "metadata": {},
   "outputs": [],
   "source": [
    "import numpy as np"
   ]
  },
  {
   "cell_type": "code",
   "execution_count": 20,
   "metadata": {},
   "outputs": [
    {
     "data": {
      "text/plain": [
       "array([-0.02376204,  0.02434641,  0.01217288, -0.00346594, -0.14531181,\n",
       "        0.1498562 ,  0.00580441, -0.00853202, -0.04095358, -0.14605537])"
      ]
     },
     "execution_count": 20,
     "metadata": {},
     "output_type": "execute_result"
    }
   ],
   "source": [
    "sampled_values = np.random.normal(0, 0.1, size=10)\n",
    "sampled_values"
   ]
  },
  {
   "cell_type": "code",
   "execution_count": null,
   "metadata": {},
   "outputs": [],
   "source": []
  }
 ],
 "metadata": {
  "interpreter": {
   "hash": "af344a1d4a4009a9796a149eae461abe839e0a1e355ecc657514cba65d6053da"
  },
  "kernelspec": {
   "display_name": "Python 3.10.4 ('cxr_env')",
   "language": "python",
   "name": "python3"
  },
  "language_info": {
   "codemirror_mode": {
    "name": "ipython",
    "version": 3
   },
   "file_extension": ".py",
   "mimetype": "text/x-python",
   "name": "python",
   "nbconvert_exporter": "python",
   "pygments_lexer": "ipython3",
   "version": "3.10.4"
  },
  "orig_nbformat": 4
 },
 "nbformat": 4,
 "nbformat_minor": 2
}
